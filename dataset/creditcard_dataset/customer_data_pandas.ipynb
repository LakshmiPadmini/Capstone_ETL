{
 "cells": [
  {
   "cell_type": "code",
   "execution_count": 16,
   "metadata": {},
   "outputs": [],
   "source": [
    "import findspark\n",
    "findspark.init()\n",
    "import pyspark\n",
    "from pyspark.sql import SparkSession\n",
    "from pyspark.sql.types import (StructField,StringType,IntegerType,StructType,TimestampType)\n",
    "from pyspark.sql.functions import *\n",
    "from pyspark.sql import Row\n",
    "import pandas as pd\n",
    "import sqlite3"
   ]
  },
  {
   "cell_type": "code",
   "execution_count": 17,
   "metadata": {},
   "outputs": [],
   "source": [
    "def extract_from_json(file_to_process):\n",
    "    dataframe = pd.read_json(file_to_process,lines=True)\n",
    "    return dataframe"
   ]
  },
  {
   "cell_type": "code",
   "execution_count": 18,
   "metadata": {},
   "outputs": [],
   "source": [
    "def extract():\n",
    "   extracted_data = pd.DataFrame(colums=['FIRST_NAME','MIDDLE_NAME','LAST_NAME','SSN','CREDIT_CARD_NO','APT_NO','STREET_NAME','CUST_CITY','CUST_STATE','CUST_COUNTRY','CUST_ZIP','CUST_PHONE','CUST_EMAIL','LAST_UPDATED'])\n",
    "   \n",
    "   for jsonfile in extracted_data:\n",
    "        extracted_data = extracted_data.append('\"cdw_sapp_custmer.json\"', ignore_index=True)\n",
    "   return extracted_data"
   ]
  },
  {
   "cell_type": "code",
   "execution_count": 21,
   "metadata": {},
   "outputs": [],
   "source": [
    "def transform(data):\n",
    "    data.SSN = data.SSN.astype(int)\n",
    "    data.CUST_ZIP = data.CUST_ZIP(int)\n",
    "    data.LAST_UPDATED = data.LAST_UPDATED(TimestampType)\n",
    "    data['MIDDLE_NAME'] = data['MIDDLE_NAME'].apply(lambda x: x.lower())\n",
    "    data['FIRST_NAME'] = data['FIRST_NAME'].apply(lambda x: x.title())\n",
    "    data['LAST_NAME'] = data['LAST_NAME'].apply(lambda x: x.title())\n",
    "    data[\"FULL_STREET_ADDRESS\"] = data[\"STREET_NAME\"].map(str) + \",\" + data[\"APT_NO\"]\n",
    "    data['CUST_PHONE'] = data['CUST_PHONE'].str.replace('^(\\d{3})(\\d{3})(\\d{4})$', r'(\\1)\\2-\\3')\n",
    "\n",
    "\n",
    "\n",
    "\n",
    "    \n",
    "\n",
    "\n",
    "    "
   ]
  },
  {
   "cell_type": "code",
   "execution_count": null,
   "metadata": {},
   "outputs": [],
   "source": [
    "def load(targetfile,data_to_load):\n",
    "    data_to_load.to_csv(targetfile) \n"
   ]
  }
 ],
 "metadata": {
  "kernelspec": {
   "display_name": "Python 3",
   "language": "python",
   "name": "python3"
  },
  "language_info": {
   "codemirror_mode": {
    "name": "ipython",
    "version": 3
   },
   "file_extension": ".py",
   "mimetype": "text/x-python",
   "name": "python",
   "nbconvert_exporter": "python",
   "pygments_lexer": "ipython3",
   "version": "3.10.9"
  },
  "orig_nbformat": 4,
  "vscode": {
   "interpreter": {
    "hash": "52634da84371cba311ea128a5ea7cdc41ff074b781779e754b270ff9f8153cee"
   }
  }
 },
 "nbformat": 4,
 "nbformat_minor": 2
}
