{
 "cells": [
  {
   "cell_type": "code",
   "execution_count": 1,
   "metadata": {},
   "outputs": [],
   "source": [
    "import findspark\n",
    "findspark.init()\n",
    "import pyspark\n",
    "from pyspark.sql import SparkSession\n",
    "from pyspark.sql.types import (StructField,StringType,IntegerType,StructType,TimestampType)\n",
    "from pyspark.sql.functions import *\n",
    "import pandas as pd\n"
   ]
  },
  {
   "cell_type": "code",
   "execution_count": 2,
   "metadata": {},
   "outputs": [],
   "source": [
    "spark = SparkSession.builder.appName('SparkByExample').getOrCreate()"
   ]
  },
  {
   "cell_type": "code",
   "execution_count": 3,
   "metadata": {},
   "outputs": [
    {
     "name": "stdout",
     "output_type": "stream",
     "text": [
      "root\n",
      " |-- APT_NO: string (nullable = true)\n",
      " |-- CREDIT_CARD_NO: string (nullable = true)\n",
      " |-- CUST_CITY: string (nullable = true)\n",
      " |-- CUST_COUNTRY: string (nullable = true)\n",
      " |-- CUST_EMAIL: string (nullable = true)\n",
      " |-- CUST_PHONE: long (nullable = true)\n",
      " |-- CUST_STATE: string (nullable = true)\n",
      " |-- CUST_ZIP: string (nullable = true)\n",
      " |-- FIRST_NAME: string (nullable = true)\n",
      " |-- LAST_NAME: string (nullable = true)\n",
      " |-- LAST_UPDATED: string (nullable = true)\n",
      " |-- MIDDLE_NAME: string (nullable = true)\n",
      " |-- SSN: long (nullable = true)\n",
      " |-- STREET_NAME: string (nullable = true)\n",
      "\n"
     ]
    }
   ],
   "source": [
    "df = spark.read.json(\"cdw_sapp_custmer.json\")\n",
    "df.printSchema()\n",
    "#df.show()"
   ]
  },
  {
   "attachments": {},
   "cell_type": "markdown",
   "metadata": {},
   "source": [
    "Changing the datatypes"
   ]
  },
  {
   "cell_type": "code",
   "execution_count": 4,
   "metadata": {},
   "outputs": [],
   "source": [
    "data_schema = [StructField('ssn', IntegerType(), True),\n",
    "               StructField('CUST_ZIP',IntegerType(),True),\n",
    "               StructField('APT_NO', StringType(),True),\n",
    "               StructField('CREDIT_CARD_NO',StringType(),True),\n",
    "               StructField('CUST_CITY',StringType(),True),\n",
    "               StructField('CUST_COUNTRY',StringType(),True),\n",
    "               StructField('CUST_EMAIL',StringType(),True),\n",
    "               StructField('CUST_PHONE', StringType(),True),\n",
    "               StructField('CUST_STATE',StringType(),True),\n",
    "               StructField('FIRST_NAME',StringType(),True),\n",
    "               StructField('LAST_NAME',StringType(),True),\n",
    "               StructField('MIDDLE_NAME',StringType(),True),\n",
    "               StructField('STREET_NAME',StringType(),True),\n",
    "               StructField('LAST_UPDATED',TimestampType(),True)]\n"
   ]
  },
  {
   "cell_type": "code",
   "execution_count": 5,
   "metadata": {},
   "outputs": [],
   "source": [
    "final_struc = StructType(fields=data_schema)"
   ]
  },
  {
   "cell_type": "code",
   "execution_count": 6,
   "metadata": {},
   "outputs": [],
   "source": [
    "df = spark.read.json('cdw_sapp_custmer.json',schema=final_struc)"
   ]
  },
  {
   "cell_type": "code",
   "execution_count": 7,
   "metadata": {},
   "outputs": [
    {
     "name": "stdout",
     "output_type": "stream",
     "text": [
      "root\n",
      " |-- ssn: integer (nullable = true)\n",
      " |-- CUST_ZIP: integer (nullable = true)\n",
      " |-- APT_NO: string (nullable = true)\n",
      " |-- CREDIT_CARD_NO: string (nullable = true)\n",
      " |-- CUST_CITY: string (nullable = true)\n",
      " |-- CUST_COUNTRY: string (nullable = true)\n",
      " |-- CUST_EMAIL: string (nullable = true)\n",
      " |-- CUST_PHONE: string (nullable = true)\n",
      " |-- CUST_STATE: string (nullable = true)\n",
      " |-- FIRST_NAME: string (nullable = true)\n",
      " |-- LAST_NAME: string (nullable = true)\n",
      " |-- MIDDLE_NAME: string (nullable = true)\n",
      " |-- STREET_NAME: string (nullable = true)\n",
      " |-- LAST_UPDATED: timestamp (nullable = true)\n",
      "\n"
     ]
    }
   ],
   "source": [
    "df.printSchema()"
   ]
  },
  {
   "cell_type": "code",
   "execution_count": 8,
   "metadata": {},
   "outputs": [
    {
     "data": {
      "text/plain": [
       "[Row(ssn=None, CUST_ZIP=None, APT_NO='656', CREDIT_CARD_NO='4210653310061055', CUST_CITY='Natchez', CUST_COUNTRY='United States', CUST_EMAIL='AHooper@example.com', CUST_PHONE='1237818', CUST_STATE='MS', FIRST_NAME='Alec', LAST_NAME='Hooper', MIDDLE_NAME='Wm', STREET_NAME='Main Street North', LAST_UPDATED=datetime.datetime(2018, 4, 21, 12, 49, 2)),\n",
       " Row(ssn=None, CUST_ZIP=None, APT_NO='829', CREDIT_CARD_NO='4210653310102868', CUST_CITY='Wethersfield', CUST_COUNTRY='United States', CUST_EMAIL='EHolman@example.com', CUST_PHONE='1238933', CUST_STATE='CT', FIRST_NAME='Etta', LAST_NAME='Holman', MIDDLE_NAME='Brendan', STREET_NAME='Redwood Drive', LAST_UPDATED=datetime.datetime(2018, 4, 21, 12, 49, 2)),\n",
       " Row(ssn=None, CUST_ZIP=None, APT_NO='683', CREDIT_CARD_NO='4210653310116272', CUST_CITY='Huntley', CUST_COUNTRY='United States', CUST_EMAIL='WDunham@example.com', CUST_PHONE='1243018', CUST_STATE='IL', FIRST_NAME='Wilber', LAST_NAME='Dunham', MIDDLE_NAME='Ezequiel', STREET_NAME='12th Street East', LAST_UPDATED=datetime.datetime(2018, 4, 21, 12, 49, 2)),\n",
       " Row(ssn=None, CUST_ZIP=None, APT_NO='253', CREDIT_CARD_NO='4210653310195948', CUST_CITY='NewBerlin', CUST_COUNTRY='United States', CUST_EMAIL='EHardy@example.com', CUST_PHONE='1243215', CUST_STATE='WI', FIRST_NAME='Eugenio', LAST_NAME='Hardy', MIDDLE_NAME='Trina', STREET_NAME='Country Club Road', LAST_UPDATED=datetime.datetime(2018, 4, 21, 12, 49, 2)),\n",
       " Row(ssn=None, CUST_ZIP=None, APT_NO='301', CREDIT_CARD_NO='4210653310356919', CUST_CITY='ElPaso', CUST_COUNTRY='United States', CUST_EMAIL='WAyers@example.com', CUST_PHONE='1242074', CUST_STATE='TX', FIRST_NAME='Wilfred', LAST_NAME='Ayers', MIDDLE_NAME='May', STREET_NAME='Madison Street', LAST_UPDATED=datetime.datetime(2018, 4, 21, 12, 49, 2))]"
      ]
     },
     "execution_count": 8,
     "metadata": {},
     "output_type": "execute_result"
    }
   ],
   "source": [
    "df.head(5)\n"
   ]
  },
  {
   "attachments": {},
   "cell_type": "markdown",
   "metadata": {},
   "source": [
    "Convert the first_name to Title case and lastname"
   ]
  },
  {
   "cell_type": "code",
   "execution_count": 9,
   "metadata": {},
   "outputs": [],
   "source": [
    "df = df.withColumn(\"FIRST_NAME\", initcap(col('FIRST_NAME'))).withColumn(\"LAST_NAME\",initcap(col('LAST_NAME')))"
   ]
  },
  {
   "attachments": {},
   "cell_type": "markdown",
   "metadata": {},
   "source": [
    "change the middle name to lowercase"
   ]
  },
  {
   "cell_type": "code",
   "execution_count": 10,
   "metadata": {},
   "outputs": [],
   "source": [
    "df = df.withColumn('MIDDLE_NAME',lower(col('MIDDLE_NAME')))"
   ]
  },
  {
   "cell_type": "code",
   "execution_count": null,
   "metadata": {},
   "outputs": [],
   "source": [
    "df.show()"
   ]
  },
  {
   "attachments": {},
   "cell_type": "markdown",
   "metadata": {},
   "source": [
    "Concatenate aptno and streetname with comma and give column name full_street_address"
   ]
  },
  {
   "cell_type": "code",
   "execution_count": 11,
   "metadata": {},
   "outputs": [],
   "source": [
    "df = df.withColumn(\"FULL_STREET_ADDRESS\", concat_ws(\",\",col('APT_NO'),col('STREET_NAME'))).drop(\"FIRST_NAME\").drop(\"STREET_NAME\")\n"
   ]
  },
  {
   "cell_type": "code",
   "execution_count": 12,
   "metadata": {},
   "outputs": [
    {
     "name": "stdout",
     "output_type": "stream",
     "text": [
      "+----+--------+------+----------------+------------+-------------+--------------------+----------+----------+---------+-----------+-------------------+--------------------+\n",
      "| ssn|CUST_ZIP|APT_NO|  CREDIT_CARD_NO|   CUST_CITY| CUST_COUNTRY|          CUST_EMAIL|CUST_PHONE|CUST_STATE|LAST_NAME|MIDDLE_NAME|       LAST_UPDATED| FULL_STREET_ADDRESS|\n",
      "+----+--------+------+----------------+------------+-------------+--------------------+----------+----------+---------+-----------+-------------------+--------------------+\n",
      "|null|    null|   656|4210653310061055|     Natchez|United States| AHooper@example.com|   1237818|        MS|   Hooper|         wm|2018-04-21 12:49:02|656,Main Street N...|\n",
      "|null|    null|   829|4210653310102868|Wethersfield|United States| EHolman@example.com|   1238933|        CT|   Holman|    brendan|2018-04-21 12:49:02|   829,Redwood Drive|\n",
      "|null|    null|   683|4210653310116272|     Huntley|United States| WDunham@example.com|   1243018|        IL|   Dunham|   ezequiel|2018-04-21 12:49:02|683,12th Street East|\n",
      "|null|    null|   253|4210653310195948|   NewBerlin|United States|  EHardy@example.com|   1243215|        WI|    Hardy|      trina|2018-04-21 12:49:02|253,Country Club ...|\n",
      "|null|    null|   301|4210653310356919|      ElPaso|United States|  WAyers@example.com|   1242074|        TX|    Ayers|        may|2018-04-21 12:49:02|  301,Madison Street|\n",
      "|null|    null|     3|4210653310395982|NorthOlmsted|United States|BWoodard@example.com|   1242570|        OH|  Woodard|    ambrose|2018-04-21 12:49:02|    3,Colonial Drive|\n",
      "|null|    null|    84|4210653310400536|      Vienna|United States|   SKemp@example.com|   1239685|        VA|     Kemp|      larry|2018-04-21 12:49:02|   84,Belmont Avenue|\n",
      "|null|    null|   728|4210653310459911|      Duarte|United States| WHurley@example.com|   1238213|        CA|   Hurley|        ora|2018-04-21 12:49:02|    728,Oxford Court|\n",
      "|null|    null|    81|4210653310773972|      Owosso|United States|AGilmore@example.com|   1240689|        MI|  Gilmore|     tracie|2018-04-21 12:49:02|    81,Forest Street|\n",
      "|null|    null|   561|4210653310794854|        Zion|United States|    BLau@example.com|   1235222|        IL|      Lau|    mitchel|2018-04-21 12:49:02|    561,Court Street|\n",
      "|null|    null|   622|4210653310817373|  Youngstown|United States|EThomson@example.com|   1241363|        OH|  Thomson|      denny|2018-04-21 12:49:02|   622,Cypress Court|\n",
      "|null|    null|   924|4210653310844617| Summerville|United States| ETruong@example.com|   1236228|        SC|   Truong|   isabelle|2018-04-21 12:49:02| 924,8th Street West|\n",
      "|null|    null|   611|4210653311015303|      ElPaso|United States|HMckinney@example...|   1238165|        TX| Mckinney|      henry|2018-04-21 12:49:02|     611,East Avenue|\n",
      "|null|    null|   680|4210653311215039|      Fenton|United States|   RKidd@example.com|   1234730|        MI|     Kidd|     rickey|2018-04-21 12:49:02|        680,Route 44|\n",
      "|null|    null|    71|4210653311229354|  Grandville|United States|ABallard@example.com|   1242113|        MI|  Ballard|  heriberto|2018-04-21 12:49:02|    71,Warren Street|\n",
      "|null|    null|   195|4210653311652836|    YubaCity|United States| PThomas@example.com|   1239888|        CA|   Thomas|   angelita|2018-04-21 12:49:02|    195,Jones Street|\n",
      "|null|    null|   500|4210653311707126|   CapeCoral|United States| JMorrow@example.com|   1240158|        FL|   Morrow|   dorothea|2018-04-21 12:49:02|      500,New Street|\n",
      "|null|    null|   989|4210653311730764|  Brookfield|United States|NAndrews@example.com|   1241408|        WI|  Andrews|  jefferson|2018-04-21 12:49:02| 989,Division Street|\n",
      "|null|    null|   810|4210653311898082|    Richmond|United States|MSchneider@exampl...|   1238390|        VA|Schneider|     maximo|2018-04-21 12:49:02|    810,Maple Street|\n",
      "|null|    null|   649|4210653312021765| WestChester|United States|PTidwell@example.com|   1235067|        PA|  Tidwell|    arnulfo|2018-04-21 12:49:02|      649,Eagle Road|\n",
      "+----+--------+------+----------------+------------+-------------+--------------------+----------+----------+---------+-----------+-------------------+--------------------+\n",
      "only showing top 20 rows\n",
      "\n"
     ]
    }
   ],
   "source": [
    "df.show()"
   ]
  },
  {
   "cell_type": "code",
   "execution_count": 41,
   "metadata": {},
   "outputs": [
    {
     "name": "stdout",
     "output_type": "stream",
     "text": [
      "root\n",
      " |-- ssn: integer (nullable = true)\n",
      " |-- CUST_ZIP: integer (nullable = true)\n",
      " |-- APT_NO: string (nullable = true)\n",
      " |-- CREDIT_CARD_NO: string (nullable = true)\n",
      " |-- CUST_CITY: string (nullable = true)\n",
      " |-- CUST_COUNTRY: string (nullable = true)\n",
      " |-- CUST_EMAIL: string (nullable = true)\n",
      " |-- CUST_PHONE: string (nullable = true)\n",
      " |-- CUST_STATE: string (nullable = true)\n",
      " |-- LAST_NAME: string (nullable = true)\n",
      " |-- MIDDLE_NAME: string (nullable = true)\n",
      " |-- LAST_UPDATED: timestamp (nullable = true)\n",
      " |-- FULL_STREET_ADDRESS: string (nullable = false)\n",
      "\n"
     ]
    }
   ],
   "source": [
    "df.printSchema()"
   ]
  },
  {
   "cell_type": "code",
   "execution_count": 36,
   "metadata": {},
   "outputs": [],
   "source": [
    "df = df.withColumn(\"CUST_PHONE\", regexp_replace(df.CUST_PHONE, \"(\\d{3})(\\d{3})(\\d{1})\", \"($1) $2-$3\"))"
   ]
  },
  {
   "cell_type": "code",
   "execution_count": 37,
   "metadata": {},
   "outputs": [
    {
     "name": "stdout",
     "output_type": "stream",
     "text": [
      "+----+--------+------+----------------+------------+-------------+--------------------+-----------+----------+---------+-----------+-------------------+--------------------+\n",
      "| ssn|CUST_ZIP|APT_NO|  CREDIT_CARD_NO|   CUST_CITY| CUST_COUNTRY|          CUST_EMAIL| CUST_PHONE|CUST_STATE|LAST_NAME|MIDDLE_NAME|       LAST_UPDATED| FULL_STREET_ADDRESS|\n",
      "+----+--------+------+----------------+------------+-------------+--------------------+-----------+----------+---------+-----------+-------------------+--------------------+\n",
      "|null|    null|   656|4210653310061055|     Natchez|United States| AHooper@example.com|(123) 781-8|        MS|   Hooper|         wm|2018-04-21 12:49:02|656,Main Street N...|\n",
      "|null|    null|   829|4210653310102868|Wethersfield|United States| EHolman@example.com|(123) 893-3|        CT|   Holman|    brendan|2018-04-21 12:49:02|   829,Redwood Drive|\n",
      "|null|    null|   683|4210653310116272|     Huntley|United States| WDunham@example.com|(124) 301-8|        IL|   Dunham|   ezequiel|2018-04-21 12:49:02|683,12th Street East|\n",
      "|null|    null|   253|4210653310195948|   NewBerlin|United States|  EHardy@example.com|(124) 321-5|        WI|    Hardy|      trina|2018-04-21 12:49:02|253,Country Club ...|\n",
      "|null|    null|   301|4210653310356919|      ElPaso|United States|  WAyers@example.com|(124) 207-4|        TX|    Ayers|        may|2018-04-21 12:49:02|  301,Madison Street|\n",
      "|null|    null|     3|4210653310395982|NorthOlmsted|United States|BWoodard@example.com|(124) 257-0|        OH|  Woodard|    ambrose|2018-04-21 12:49:02|    3,Colonial Drive|\n",
      "|null|    null|    84|4210653310400536|      Vienna|United States|   SKemp@example.com|(123) 968-5|        VA|     Kemp|      larry|2018-04-21 12:49:02|   84,Belmont Avenue|\n",
      "|null|    null|   728|4210653310459911|      Duarte|United States| WHurley@example.com|(123) 821-3|        CA|   Hurley|        ora|2018-04-21 12:49:02|    728,Oxford Court|\n",
      "|null|    null|    81|4210653310773972|      Owosso|United States|AGilmore@example.com|(124) 068-9|        MI|  Gilmore|     tracie|2018-04-21 12:49:02|    81,Forest Street|\n",
      "|null|    null|   561|4210653310794854|        Zion|United States|    BLau@example.com|(123) 522-2|        IL|      Lau|    mitchel|2018-04-21 12:49:02|    561,Court Street|\n",
      "|null|    null|   622|4210653310817373|  Youngstown|United States|EThomson@example.com|(124) 136-3|        OH|  Thomson|      denny|2018-04-21 12:49:02|   622,Cypress Court|\n",
      "|null|    null|   924|4210653310844617| Summerville|United States| ETruong@example.com|(123) 622-8|        SC|   Truong|   isabelle|2018-04-21 12:49:02| 924,8th Street West|\n",
      "|null|    null|   611|4210653311015303|      ElPaso|United States|HMckinney@example...|(123) 816-5|        TX| Mckinney|      henry|2018-04-21 12:49:02|     611,East Avenue|\n",
      "|null|    null|   680|4210653311215039|      Fenton|United States|   RKidd@example.com|(123) 473-0|        MI|     Kidd|     rickey|2018-04-21 12:49:02|        680,Route 44|\n",
      "|null|    null|    71|4210653311229354|  Grandville|United States|ABallard@example.com|(124) 211-3|        MI|  Ballard|  heriberto|2018-04-21 12:49:02|    71,Warren Street|\n",
      "|null|    null|   195|4210653311652836|    YubaCity|United States| PThomas@example.com|(123) 988-8|        CA|   Thomas|   angelita|2018-04-21 12:49:02|    195,Jones Street|\n",
      "|null|    null|   500|4210653311707126|   CapeCoral|United States| JMorrow@example.com|(124) 015-8|        FL|   Morrow|   dorothea|2018-04-21 12:49:02|      500,New Street|\n",
      "|null|    null|   989|4210653311730764|  Brookfield|United States|NAndrews@example.com|(124) 140-8|        WI|  Andrews|  jefferson|2018-04-21 12:49:02| 989,Division Street|\n",
      "|null|    null|   810|4210653311898082|    Richmond|United States|MSchneider@exampl...|(123) 839-0|        VA|Schneider|     maximo|2018-04-21 12:49:02|    810,Maple Street|\n",
      "|null|    null|   649|4210653312021765| WestChester|United States|PTidwell@example.com|(123) 506-7|        PA|  Tidwell|    arnulfo|2018-04-21 12:49:02|      649,Eagle Road|\n",
      "+----+--------+------+----------------+------------+-------------+--------------------+-----------+----------+---------+-----------+-------------------+--------------------+\n",
      "only showing top 20 rows\n",
      "\n"
     ]
    }
   ],
   "source": [
    "df.show()"
   ]
  },
  {
   "cell_type": "code",
   "execution_count": 13,
   "metadata": {},
   "outputs": [
    {
     "name": "stderr",
     "output_type": "stream",
     "text": [
      "C:\\Spark\\python\\pyspark\\sql\\pandas\\conversion.py:194: FutureWarning: Passing unit-less datetime64 dtype to .astype is deprecated and will raise in a future version. Pass 'datetime64[ns]' instead\n",
      "  series = series.astype(t, copy=False)\n"
     ]
    },
    {
     "data": {
      "text/html": [
       "<div>\n",
       "<style scoped>\n",
       "    .dataframe tbody tr th:only-of-type {\n",
       "        vertical-align: middle;\n",
       "    }\n",
       "\n",
       "    .dataframe tbody tr th {\n",
       "        vertical-align: top;\n",
       "    }\n",
       "\n",
       "    .dataframe thead th {\n",
       "        text-align: right;\n",
       "    }\n",
       "</style>\n",
       "<table border=\"1\" class=\"dataframe\">\n",
       "  <thead>\n",
       "    <tr style=\"text-align: right;\">\n",
       "      <th></th>\n",
       "      <th>ssn</th>\n",
       "      <th>CUST_ZIP</th>\n",
       "      <th>APT_NO</th>\n",
       "      <th>CREDIT_CARD_NO</th>\n",
       "      <th>CUST_CITY</th>\n",
       "      <th>CUST_COUNTRY</th>\n",
       "      <th>CUST_EMAIL</th>\n",
       "      <th>CUST_PHONE</th>\n",
       "      <th>CUST_STATE</th>\n",
       "      <th>LAST_NAME</th>\n",
       "      <th>MIDDLE_NAME</th>\n",
       "      <th>LAST_UPDATED</th>\n",
       "      <th>FULL_STREET_ADDRESS</th>\n",
       "    </tr>\n",
       "  </thead>\n",
       "  <tbody>\n",
       "    <tr>\n",
       "      <th>0</th>\n",
       "      <td>NaN</td>\n",
       "      <td>NaN</td>\n",
       "      <td>656</td>\n",
       "      <td>4210653310061055</td>\n",
       "      <td>Natchez</td>\n",
       "      <td>United States</td>\n",
       "      <td>AHooper@example.com</td>\n",
       "      <td>1237818</td>\n",
       "      <td>MS</td>\n",
       "      <td>Hooper</td>\n",
       "      <td>wm</td>\n",
       "      <td>2018-04-21 12:49:02</td>\n",
       "      <td>656,Main Street North</td>\n",
       "    </tr>\n",
       "    <tr>\n",
       "      <th>1</th>\n",
       "      <td>NaN</td>\n",
       "      <td>NaN</td>\n",
       "      <td>829</td>\n",
       "      <td>4210653310102868</td>\n",
       "      <td>Wethersfield</td>\n",
       "      <td>United States</td>\n",
       "      <td>EHolman@example.com</td>\n",
       "      <td>1238933</td>\n",
       "      <td>CT</td>\n",
       "      <td>Holman</td>\n",
       "      <td>brendan</td>\n",
       "      <td>2018-04-21 12:49:02</td>\n",
       "      <td>829,Redwood Drive</td>\n",
       "    </tr>\n",
       "    <tr>\n",
       "      <th>2</th>\n",
       "      <td>NaN</td>\n",
       "      <td>NaN</td>\n",
       "      <td>683</td>\n",
       "      <td>4210653310116272</td>\n",
       "      <td>Huntley</td>\n",
       "      <td>United States</td>\n",
       "      <td>WDunham@example.com</td>\n",
       "      <td>1243018</td>\n",
       "      <td>IL</td>\n",
       "      <td>Dunham</td>\n",
       "      <td>ezequiel</td>\n",
       "      <td>2018-04-21 12:49:02</td>\n",
       "      <td>683,12th Street East</td>\n",
       "    </tr>\n",
       "    <tr>\n",
       "      <th>3</th>\n",
       "      <td>NaN</td>\n",
       "      <td>NaN</td>\n",
       "      <td>253</td>\n",
       "      <td>4210653310195948</td>\n",
       "      <td>NewBerlin</td>\n",
       "      <td>United States</td>\n",
       "      <td>EHardy@example.com</td>\n",
       "      <td>1243215</td>\n",
       "      <td>WI</td>\n",
       "      <td>Hardy</td>\n",
       "      <td>trina</td>\n",
       "      <td>2018-04-21 12:49:02</td>\n",
       "      <td>253,Country Club Road</td>\n",
       "    </tr>\n",
       "    <tr>\n",
       "      <th>4</th>\n",
       "      <td>NaN</td>\n",
       "      <td>NaN</td>\n",
       "      <td>301</td>\n",
       "      <td>4210653310356919</td>\n",
       "      <td>ElPaso</td>\n",
       "      <td>United States</td>\n",
       "      <td>WAyers@example.com</td>\n",
       "      <td>1242074</td>\n",
       "      <td>TX</td>\n",
       "      <td>Ayers</td>\n",
       "      <td>may</td>\n",
       "      <td>2018-04-21 12:49:02</td>\n",
       "      <td>301,Madison Street</td>\n",
       "    </tr>\n",
       "    <tr>\n",
       "      <th>...</th>\n",
       "      <td>...</td>\n",
       "      <td>...</td>\n",
       "      <td>...</td>\n",
       "      <td>...</td>\n",
       "      <td>...</td>\n",
       "      <td>...</td>\n",
       "      <td>...</td>\n",
       "      <td>...</td>\n",
       "      <td>...</td>\n",
       "      <td>...</td>\n",
       "      <td>...</td>\n",
       "      <td>...</td>\n",
       "      <td>...</td>\n",
       "    </tr>\n",
       "    <tr>\n",
       "      <th>947</th>\n",
       "      <td>NaN</td>\n",
       "      <td>NaN</td>\n",
       "      <td>882</td>\n",
       "      <td>4210653399559239</td>\n",
       "      <td>SiouxCity</td>\n",
       "      <td>United States</td>\n",
       "      <td>FCastle@example.com</td>\n",
       "      <td>1238344</td>\n",
       "      <td>IA</td>\n",
       "      <td>Castle</td>\n",
       "      <td>jonah</td>\n",
       "      <td>2018-04-21 12:49:02</td>\n",
       "      <td>882,Main Street South</td>\n",
       "    </tr>\n",
       "    <tr>\n",
       "      <th>948</th>\n",
       "      <td>NaN</td>\n",
       "      <td>NaN</td>\n",
       "      <td>470</td>\n",
       "      <td>4210653399650358</td>\n",
       "      <td>Summerville</td>\n",
       "      <td>United States</td>\n",
       "      <td>FBlock@example.com</td>\n",
       "      <td>1240420</td>\n",
       "      <td>SC</td>\n",
       "      <td>Block</td>\n",
       "      <td>aron</td>\n",
       "      <td>2018-04-21 12:49:02</td>\n",
       "      <td>470,Glenwood Avenue</td>\n",
       "    </tr>\n",
       "    <tr>\n",
       "      <th>949</th>\n",
       "      <td>NaN</td>\n",
       "      <td>NaN</td>\n",
       "      <td>405</td>\n",
       "      <td>4210653399732638</td>\n",
       "      <td>Duluth</td>\n",
       "      <td>United States</td>\n",
       "      <td>DPruitt@example.com</td>\n",
       "      <td>1236149</td>\n",
       "      <td>GA</td>\n",
       "      <td>Pruitt</td>\n",
       "      <td>lucas</td>\n",
       "      <td>2018-04-21 12:49:02</td>\n",
       "      <td>405,Country Lane</td>\n",
       "    </tr>\n",
       "    <tr>\n",
       "      <th>950</th>\n",
       "      <td>NaN</td>\n",
       "      <td>NaN</td>\n",
       "      <td>15</td>\n",
       "      <td>4210653399859149</td>\n",
       "      <td>Rowlett</td>\n",
       "      <td>United States</td>\n",
       "      <td>EBeatty@example.com</td>\n",
       "      <td>1236886</td>\n",
       "      <td>TX</td>\n",
       "      <td>Beatty</td>\n",
       "      <td>susanna</td>\n",
       "      <td>2018-04-21 12:49:02</td>\n",
       "      <td>15,8th Street</td>\n",
       "    </tr>\n",
       "    <tr>\n",
       "      <th>951</th>\n",
       "      <td>NaN</td>\n",
       "      <td>NaN</td>\n",
       "      <td>67</td>\n",
       "      <td>4210653399939240</td>\n",
       "      <td>SanLorenzo</td>\n",
       "      <td>United States</td>\n",
       "      <td>PMullen@example.com</td>\n",
       "      <td>1237017</td>\n",
       "      <td>CA</td>\n",
       "      <td>Mullen</td>\n",
       "      <td>jaime</td>\n",
       "      <td>2018-04-21 12:49:02</td>\n",
       "      <td>67,Charles Street</td>\n",
       "    </tr>\n",
       "  </tbody>\n",
       "</table>\n",
       "<p>952 rows × 13 columns</p>\n",
       "</div>"
      ],
      "text/plain": [
       "     ssn  CUST_ZIP APT_NO    CREDIT_CARD_NO     CUST_CITY   CUST_COUNTRY  \\\n",
       "0    NaN       NaN    656  4210653310061055       Natchez  United States   \n",
       "1    NaN       NaN    829  4210653310102868  Wethersfield  United States   \n",
       "2    NaN       NaN    683  4210653310116272       Huntley  United States   \n",
       "3    NaN       NaN    253  4210653310195948     NewBerlin  United States   \n",
       "4    NaN       NaN    301  4210653310356919        ElPaso  United States   \n",
       "..   ...       ...    ...               ...           ...            ...   \n",
       "947  NaN       NaN    882  4210653399559239     SiouxCity  United States   \n",
       "948  NaN       NaN    470  4210653399650358   Summerville  United States   \n",
       "949  NaN       NaN    405  4210653399732638        Duluth  United States   \n",
       "950  NaN       NaN     15  4210653399859149       Rowlett  United States   \n",
       "951  NaN       NaN     67  4210653399939240    SanLorenzo  United States   \n",
       "\n",
       "              CUST_EMAIL CUST_PHONE CUST_STATE LAST_NAME MIDDLE_NAME  \\\n",
       "0    AHooper@example.com    1237818         MS    Hooper          wm   \n",
       "1    EHolman@example.com    1238933         CT    Holman     brendan   \n",
       "2    WDunham@example.com    1243018         IL    Dunham    ezequiel   \n",
       "3     EHardy@example.com    1243215         WI     Hardy       trina   \n",
       "4     WAyers@example.com    1242074         TX     Ayers         may   \n",
       "..                   ...        ...        ...       ...         ...   \n",
       "947  FCastle@example.com    1238344         IA    Castle       jonah   \n",
       "948   FBlock@example.com    1240420         SC     Block        aron   \n",
       "949  DPruitt@example.com    1236149         GA    Pruitt       lucas   \n",
       "950  EBeatty@example.com    1236886         TX    Beatty     susanna   \n",
       "951  PMullen@example.com    1237017         CA    Mullen       jaime   \n",
       "\n",
       "           LAST_UPDATED    FULL_STREET_ADDRESS  \n",
       "0   2018-04-21 12:49:02  656,Main Street North  \n",
       "1   2018-04-21 12:49:02      829,Redwood Drive  \n",
       "2   2018-04-21 12:49:02   683,12th Street East  \n",
       "3   2018-04-21 12:49:02  253,Country Club Road  \n",
       "4   2018-04-21 12:49:02     301,Madison Street  \n",
       "..                  ...                    ...  \n",
       "947 2018-04-21 12:49:02  882,Main Street South  \n",
       "948 2018-04-21 12:49:02    470,Glenwood Avenue  \n",
       "949 2018-04-21 12:49:02       405,Country Lane  \n",
       "950 2018-04-21 12:49:02          15,8th Street  \n",
       "951 2018-04-21 12:49:02      67,Charles Street  \n",
       "\n",
       "[952 rows x 13 columns]"
      ]
     },
     "execution_count": 13,
     "metadata": {},
     "output_type": "execute_result"
    }
   ],
   "source": [
    "pandasDF = df.toPandas()\n",
    "pandasDF"
   ]
  },
  {
   "cell_type": "code",
   "execution_count": 15,
   "metadata": {},
   "outputs": [
    {
     "name": "stdout",
     "output_type": "stream",
     "text": [
      "root\n",
      " |-- ssn: integer (nullable = true)\n",
      " |-- CUST_ZIP: integer (nullable = true)\n",
      " |-- APT_NO: string (nullable = true)\n",
      " |-- CREDIT_CARD_NO: string (nullable = true)\n",
      " |-- CUST_CITY: string (nullable = true)\n",
      " |-- CUST_COUNTRY: string (nullable = true)\n",
      " |-- CUST_EMAIL: string (nullable = true)\n",
      " |-- CUST_PHONE: string (nullable = true)\n",
      " |-- CUST_STATE: string (nullable = true)\n",
      " |-- LAST_NAME: string (nullable = true)\n",
      " |-- MIDDLE_NAME: string (nullable = true)\n",
      " |-- LAST_UPDATED: timestamp (nullable = true)\n",
      " |-- FULL_STREET_ADDRESS: string (nullable = false)\n",
      "\n"
     ]
    }
   ],
   "source": [
    "df.printSchema()"
   ]
  },
  {
   "cell_type": "code",
   "execution_count": 16,
   "metadata": {},
   "outputs": [
    {
     "data": {
      "text/plain": [
       "ssn                           float64\n",
       "CUST_ZIP                      float64\n",
       "APT_NO                         object\n",
       "CREDIT_CARD_NO                 object\n",
       "CUST_CITY                      object\n",
       "CUST_COUNTRY                   object\n",
       "CUST_EMAIL                     object\n",
       "CUST_PHONE                     object\n",
       "CUST_STATE                     object\n",
       "LAST_NAME                      object\n",
       "MIDDLE_NAME                    object\n",
       "LAST_UPDATED           datetime64[ns]\n",
       "FULL_STREET_ADDRESS            object\n",
       "dtype: object"
      ]
     },
     "execution_count": 16,
     "metadata": {},
     "output_type": "execute_result"
    }
   ],
   "source": [
    "pandasDF.dtypes"
   ]
  },
  {
   "cell_type": "code",
   "execution_count": 31,
   "metadata": {},
   "outputs": [
    {
     "ename": "KeyError",
     "evalue": "'CUST_PHONE'",
     "output_type": "error",
     "traceback": [
      "\u001b[1;31m---------------------------------------------------------------------------\u001b[0m",
      "\u001b[1;31mKeyError\u001b[0m                                  Traceback (most recent call last)",
      "Cell \u001b[1;32mIn[31], line 2\u001b[0m\n\u001b[0;32m      1\u001b[0m \u001b[39mfrom\u001b[39;00m \u001b[39mdataprep\u001b[39;00m\u001b[39m.\u001b[39;00m\u001b[39mclean\u001b[39;00m \u001b[39mimport\u001b[39;00m clean_phone\n\u001b[1;32m----> 2\u001b[0m pandasDF \u001b[39m=\u001b[39m pandasDF[\u001b[39m'\u001b[39;49m\u001b[39mCUST_PHONE\u001b[39;49m\u001b[39m'\u001b[39;49m]\n\u001b[0;32m      3\u001b[0m clean_phone(pandasDF, df[\u001b[39m'\u001b[39m\u001b[39mCUST_PHONE\u001b[39m\u001b[39m'\u001b[39m], output_format\u001b[39m=\u001b[39m\u001b[39m'\u001b[39m\u001b[39mnational\u001b[39m\u001b[39m'\u001b[39m)\n",
      "File \u001b[1;32mc:\\Python\\lib\\site-packages\\pandas\\core\\series.py:981\u001b[0m, in \u001b[0;36mSeries.__getitem__\u001b[1;34m(self, key)\u001b[0m\n\u001b[0;32m    978\u001b[0m     \u001b[39mreturn\u001b[39;00m \u001b[39mself\u001b[39m\u001b[39m.\u001b[39m_values[key]\n\u001b[0;32m    980\u001b[0m \u001b[39melif\u001b[39;00m key_is_scalar:\n\u001b[1;32m--> 981\u001b[0m     \u001b[39mreturn\u001b[39;00m \u001b[39mself\u001b[39;49m\u001b[39m.\u001b[39;49m_get_value(key)\n\u001b[0;32m    983\u001b[0m \u001b[39mif\u001b[39;00m is_hashable(key):\n\u001b[0;32m    984\u001b[0m     \u001b[39m# Otherwise index.get_value will raise InvalidIndexError\u001b[39;00m\n\u001b[0;32m    985\u001b[0m     \u001b[39mtry\u001b[39;00m:\n\u001b[0;32m    986\u001b[0m         \u001b[39m# For labels that don't resolve as scalars like tuples and frozensets\u001b[39;00m\n",
      "File \u001b[1;32mc:\\Python\\lib\\site-packages\\pandas\\core\\series.py:1089\u001b[0m, in \u001b[0;36mSeries._get_value\u001b[1;34m(self, label, takeable)\u001b[0m\n\u001b[0;32m   1086\u001b[0m     \u001b[39mreturn\u001b[39;00m \u001b[39mself\u001b[39m\u001b[39m.\u001b[39m_values[label]\n\u001b[0;32m   1088\u001b[0m \u001b[39m# Similar to Index.get_value, but we do not fall back to positional\u001b[39;00m\n\u001b[1;32m-> 1089\u001b[0m loc \u001b[39m=\u001b[39m \u001b[39mself\u001b[39;49m\u001b[39m.\u001b[39;49mindex\u001b[39m.\u001b[39;49mget_loc(label)\n\u001b[0;32m   1090\u001b[0m \u001b[39mreturn\u001b[39;00m \u001b[39mself\u001b[39m\u001b[39m.\u001b[39mindex\u001b[39m.\u001b[39m_get_values_for_loc(\u001b[39mself\u001b[39m, loc, label)\n",
      "File \u001b[1;32mc:\\Python\\lib\\site-packages\\pandas\\core\\indexes\\range.py:395\u001b[0m, in \u001b[0;36mRangeIndex.get_loc\u001b[1;34m(self, key, method, tolerance)\u001b[0m\n\u001b[0;32m    393\u001b[0m             \u001b[39mraise\u001b[39;00m \u001b[39mKeyError\u001b[39;00m(key) \u001b[39mfrom\u001b[39;00m \u001b[39merr\u001b[39;00m\n\u001b[0;32m    394\u001b[0m     \u001b[39mself\u001b[39m\u001b[39m.\u001b[39m_check_indexing_error(key)\n\u001b[1;32m--> 395\u001b[0m     \u001b[39mraise\u001b[39;00m \u001b[39mKeyError\u001b[39;00m(key)\n\u001b[0;32m    396\u001b[0m \u001b[39mreturn\u001b[39;00m \u001b[39msuper\u001b[39m()\u001b[39m.\u001b[39mget_loc(key, method\u001b[39m=\u001b[39mmethod, tolerance\u001b[39m=\u001b[39mtolerance)\n",
      "\u001b[1;31mKeyError\u001b[0m: 'CUST_PHONE'"
     ]
    }
   ],
   "source": [
    "from dataprep.clean import clean_phone\n",
    "pandasDF = pandasDF['CUST_PHONE']\n",
    "clean_phone(pandasDF, df['CUST_PHONE'], output_format='national')\n",
    "\n"
   ]
  },
  {
   "cell_type": "code",
   "execution_count": 27,
   "metadata": {},
   "outputs": [],
   "source": [
    "s = pandasDF['CUST_PHONE']\n",
    "phone_nos = '(' + s.str[:3] + ')' + s.str[3:6] + '-' + s.str[6:]\n"
   ]
  },
  {
   "cell_type": "code",
   "execution_count": null,
   "metadata": {},
   "outputs": [],
   "source": []
  },
  {
   "attachments": {},
   "cell_type": "markdown",
   "metadata": {},
   "source": [
    "change the phone number format"
   ]
  },
  {
   "cell_type": "code",
   "execution_count": 83,
   "metadata": {},
   "outputs": [
    {
     "data": {
      "text/plain": [
       "DataFrame[CUST_PHONE: string, format_phone_number(CUST_PHONE): string]"
      ]
     },
     "execution_count": 83,
     "metadata": {},
     "output_type": "execute_result"
    }
   ],
   "source": [
    "def format_phone_number(phone_number):\n",
    "    return \"({}) {}-{}\".format(phone_number[0:3],phone_number[3:6],phone_number[6:])\n",
    "    #return phone_number\n",
    "\n",
    "formatted_number = udf(format_phone_number)\n",
    "df.select(col(\"CUST_PHONE\"),\n",
    "    formatted_number(col(\"CUST_PHONE\")))\n",
    "\n",
    "#df = df.withColumn(\"CUST_PHONE\",format_phone_number(df[\"CUST_PHONE\"]))\n",
    "#df['PHONE_NUM'] = df.apply(lambda row: formatted_number(row['CUST_PHONE']), axis=1)\n",
    "\n"
   ]
  },
  {
   "cell_type": "code",
   "execution_count": 86,
   "metadata": {},
   "outputs": [
    {
     "data": {
      "text/plain": [
       "Row(ssn=None, CUST_ZIP=None, APT_NO='656', CREDIT_CARD_NO='4210653310061055', CUST_CITY='Natchez', CUST_COUNTRY='United States', CUST_EMAIL='AHooper@example.com', CUST_PHONE='1237818', CUST_STATE='MS', FIRST_NAME='Alec', LAST_NAME='Hooper', MIDDLE_NAME='wm', STREET_NAME='Main Street North', LAST_UPDATED=datetime.datetime(2018, 4, 21, 12, 49, 2))"
      ]
     },
     "execution_count": 86,
     "metadata": {},
     "output_type": "execute_result"
    }
   ],
   "source": [
    "df.head()"
   ]
  },
  {
   "cell_type": "code",
   "execution_count": 85,
   "metadata": {},
   "outputs": [
    {
     "data": {
      "text/html": [
       "<div>\n",
       "<style scoped>\n",
       "    .dataframe tbody tr th:only-of-type {\n",
       "        vertical-align: middle;\n",
       "    }\n",
       "\n",
       "    .dataframe tbody tr th {\n",
       "        vertical-align: top;\n",
       "    }\n",
       "\n",
       "    .dataframe thead th {\n",
       "        text-align: right;\n",
       "    }\n",
       "</style>\n",
       "<table border=\"1\" class=\"dataframe\">\n",
       "  <thead>\n",
       "    <tr style=\"text-align: right;\">\n",
       "      <th></th>\n",
       "      <th>ssn</th>\n",
       "      <th>CUST_ZIP</th>\n",
       "      <th>APT_NO</th>\n",
       "      <th>CREDIT_CARD_NO</th>\n",
       "      <th>CUST_CITY</th>\n",
       "      <th>CUST_COUNTRY</th>\n",
       "      <th>CUST_EMAIL</th>\n",
       "      <th>CUST_PHONE</th>\n",
       "      <th>CUST_STATE</th>\n",
       "      <th>LAST_NAME</th>\n",
       "      <th>MIDDLE_NAME</th>\n",
       "      <th>LAST_UPDATED</th>\n",
       "      <th>FULL_STREET_ADDRESS</th>\n",
       "      <th>test</th>\n",
       "    </tr>\n",
       "  </thead>\n",
       "  <tbody>\n",
       "    <tr>\n",
       "      <th>0</th>\n",
       "      <td>NaN</td>\n",
       "      <td>NaN</td>\n",
       "      <td>656</td>\n",
       "      <td>4210653310061055</td>\n",
       "      <td>Natchez</td>\n",
       "      <td>United States</td>\n",
       "      <td>AHooper@example.com</td>\n",
       "      <td>({}) {}-{}.format(phone_number[0:3],phone_numb...</td>\n",
       "      <td>MS</td>\n",
       "      <td>Hooper</td>\n",
       "      <td>wm</td>\n",
       "      <td>2018-04-21 12:49:02</td>\n",
       "      <td>656,Main Street North</td>\n",
       "      <td>(({}) ) {-}-{}.format(phone_number[0:3],phone_...</td>\n",
       "    </tr>\n",
       "    <tr>\n",
       "      <th>1</th>\n",
       "      <td>NaN</td>\n",
       "      <td>NaN</td>\n",
       "      <td>829</td>\n",
       "      <td>4210653310102868</td>\n",
       "      <td>Wethersfield</td>\n",
       "      <td>United States</td>\n",
       "      <td>EHolman@example.com</td>\n",
       "      <td>({}) {}-{}.format(phone_number[0:3],phone_numb...</td>\n",
       "      <td>CT</td>\n",
       "      <td>Holman</td>\n",
       "      <td>brendan</td>\n",
       "      <td>2018-04-21 12:49:02</td>\n",
       "      <td>829,Redwood Drive</td>\n",
       "      <td>(({}) ) {-}-{}.format(phone_number[0:3],phone_...</td>\n",
       "    </tr>\n",
       "    <tr>\n",
       "      <th>2</th>\n",
       "      <td>NaN</td>\n",
       "      <td>NaN</td>\n",
       "      <td>683</td>\n",
       "      <td>4210653310116272</td>\n",
       "      <td>Huntley</td>\n",
       "      <td>United States</td>\n",
       "      <td>WDunham@example.com</td>\n",
       "      <td>({}) {}-{}.format(phone_number[0:3],phone_numb...</td>\n",
       "      <td>IL</td>\n",
       "      <td>Dunham</td>\n",
       "      <td>ezequiel</td>\n",
       "      <td>2018-04-21 12:49:02</td>\n",
       "      <td>683,12th Street East</td>\n",
       "      <td>(({}) ) {-}-{}.format(phone_number[0:3],phone_...</td>\n",
       "    </tr>\n",
       "    <tr>\n",
       "      <th>3</th>\n",
       "      <td>NaN</td>\n",
       "      <td>NaN</td>\n",
       "      <td>253</td>\n",
       "      <td>4210653310195948</td>\n",
       "      <td>NewBerlin</td>\n",
       "      <td>United States</td>\n",
       "      <td>EHardy@example.com</td>\n",
       "      <td>({}) {}-{}.format(phone_number[0:3],phone_numb...</td>\n",
       "      <td>WI</td>\n",
       "      <td>Hardy</td>\n",
       "      <td>trina</td>\n",
       "      <td>2018-04-21 12:49:02</td>\n",
       "      <td>253,Country Club Road</td>\n",
       "      <td>(({}) ) {-}-{}.format(phone_number[0:3],phone_...</td>\n",
       "    </tr>\n",
       "    <tr>\n",
       "      <th>4</th>\n",
       "      <td>NaN</td>\n",
       "      <td>NaN</td>\n",
       "      <td>301</td>\n",
       "      <td>4210653310356919</td>\n",
       "      <td>ElPaso</td>\n",
       "      <td>United States</td>\n",
       "      <td>WAyers@example.com</td>\n",
       "      <td>({}) {}-{}.format(phone_number[0:3],phone_numb...</td>\n",
       "      <td>TX</td>\n",
       "      <td>Ayers</td>\n",
       "      <td>may</td>\n",
       "      <td>2018-04-21 12:49:02</td>\n",
       "      <td>301,Madison Street</td>\n",
       "      <td>(({}) ) {-}-{}.format(phone_number[0:3],phone_...</td>\n",
       "    </tr>\n",
       "  </tbody>\n",
       "</table>\n",
       "</div>"
      ],
      "text/plain": [
       "   ssn  CUST_ZIP APT_NO    CREDIT_CARD_NO     CUST_CITY   CUST_COUNTRY  \\\n",
       "0  NaN       NaN    656  4210653310061055       Natchez  United States   \n",
       "1  NaN       NaN    829  4210653310102868  Wethersfield  United States   \n",
       "2  NaN       NaN    683  4210653310116272       Huntley  United States   \n",
       "3  NaN       NaN    253  4210653310195948     NewBerlin  United States   \n",
       "4  NaN       NaN    301  4210653310356919        ElPaso  United States   \n",
       "\n",
       "            CUST_EMAIL                                         CUST_PHONE  \\\n",
       "0  AHooper@example.com  ({}) {}-{}.format(phone_number[0:3],phone_numb...   \n",
       "1  EHolman@example.com  ({}) {}-{}.format(phone_number[0:3],phone_numb...   \n",
       "2  WDunham@example.com  ({}) {}-{}.format(phone_number[0:3],phone_numb...   \n",
       "3   EHardy@example.com  ({}) {}-{}.format(phone_number[0:3],phone_numb...   \n",
       "4   WAyers@example.com  ({}) {}-{}.format(phone_number[0:3],phone_numb...   \n",
       "\n",
       "  CUST_STATE LAST_NAME MIDDLE_NAME        LAST_UPDATED    FULL_STREET_ADDRESS  \\\n",
       "0         MS    Hooper          wm 2018-04-21 12:49:02  656,Main Street North   \n",
       "1         CT    Holman     brendan 2018-04-21 12:49:02      829,Redwood Drive   \n",
       "2         IL    Dunham    ezequiel 2018-04-21 12:49:02   683,12th Street East   \n",
       "3         WI     Hardy       trina 2018-04-21 12:49:02  253,Country Club Road   \n",
       "4         TX     Ayers         may 2018-04-21 12:49:02     301,Madison Street   \n",
       "\n",
       "                                                test  \n",
       "0  (({}) ) {-}-{}.format(phone_number[0:3],phone_...  \n",
       "1  (({}) ) {-}-{}.format(phone_number[0:3],phone_...  \n",
       "2  (({}) ) {-}-{}.format(phone_number[0:3],phone_...  \n",
       "3  (({}) ) {-}-{}.format(phone_number[0:3],phone_...  \n",
       "4  (({}) ) {-}-{}.format(phone_number[0:3],phone_...  "
      ]
     },
     "execution_count": 85,
     "metadata": {},
     "output_type": "execute_result"
    }
   ],
   "source": [
    "panda_df.head()"
   ]
  },
  {
   "cell_type": "code",
   "execution_count": 25,
   "metadata": {},
   "outputs": [
    {
     "ename": "TypeError",
     "evalue": "startPos and length must be the same type. Got <class 'int'> and <class 'NoneType'>, respectively.",
     "output_type": "error",
     "traceback": [
      "\u001b[1;31m---------------------------------------------------------------------------\u001b[0m",
      "\u001b[1;31mTypeError\u001b[0m                                 Traceback (most recent call last)",
      "Cell \u001b[1;32mIn[25], line 4\u001b[0m\n\u001b[0;32m      1\u001b[0m \u001b[39m#df = df.withColumn(col(\"CUST_PHONE\"), regexp_replace((\"CUST_PHONE\", \"(\\\\ d{3})(\\\\ d{3})(\\\\ d{4})\", \"($1) $2-$3\")))\u001b[39;00m\n\u001b[0;32m      2\u001b[0m \u001b[39m#df = df.select(format_string(col(\"CUST_PHONE\"),df[\"CUST_PHONE\"][:3],df['CUST_PHONE'][3:6],df['CUST_PHONE'][6:]))\u001b[39;00m\n\u001b[1;32m----> 4\u001b[0m df \u001b[39m=\u001b[39m df\u001b[39m.\u001b[39mwithColumn(\u001b[39m\"\u001b[39m\u001b[39mCUST_PHONE\u001b[39m\u001b[39m\"\u001b[39m,df[\u001b[39m\"\u001b[39m\u001b[39mCUST_PHONE\u001b[39m\u001b[39m\"\u001b[39m]\u001b[39m.\u001b[39mformat_string(\u001b[39m\"\u001b[39m\u001b[39m(\u001b[39m\u001b[39m%s\u001b[39;00m\u001b[39m-\u001b[39m\u001b[39m%s\u001b[39;00m\u001b[39m-\u001b[39m\u001b[39m%s\u001b[39;00m\u001b[39m)\u001b[39m\u001b[39m\"\u001b[39m,df[\u001b[39m\"\u001b[39m\u001b[39mCUST_PHONE\u001b[39m\u001b[39m\"\u001b[39m][\u001b[39m0\u001b[39m:\u001b[39m3\u001b[39m],df[\u001b[39m'\u001b[39m\u001b[39mCUST_PHONE\u001b[39m\u001b[39m'\u001b[39m][\u001b[39m3\u001b[39m:\u001b[39m6\u001b[39m],df[\u001b[39m'\u001b[39;49m\u001b[39mCUST_PHONE\u001b[39;49m\u001b[39m'\u001b[39;49m][\u001b[39m6\u001b[39;49m:]))\n",
      "File \u001b[1;32mC:\\Spark\\python\\pyspark\\sql\\column.py:458\u001b[0m, in \u001b[0;36mColumn.__getitem__\u001b[1;34m(self, k)\u001b[0m\n\u001b[0;32m    456\u001b[0m     \u001b[39mif\u001b[39;00m k\u001b[39m.\u001b[39mstep \u001b[39mis\u001b[39;00m \u001b[39mnot\u001b[39;00m \u001b[39mNone\u001b[39;00m:\n\u001b[0;32m    457\u001b[0m         \u001b[39mraise\u001b[39;00m \u001b[39mValueError\u001b[39;00m(\u001b[39m\"\u001b[39m\u001b[39mslice with step is not supported.\u001b[39m\u001b[39m\"\u001b[39m)\n\u001b[1;32m--> 458\u001b[0m     \u001b[39mreturn\u001b[39;00m \u001b[39mself\u001b[39;49m\u001b[39m.\u001b[39;49msubstr(k\u001b[39m.\u001b[39;49mstart, k\u001b[39m.\u001b[39;49mstop)\n\u001b[0;32m    459\u001b[0m \u001b[39melse\u001b[39;00m:\n\u001b[0;32m    460\u001b[0m     \u001b[39mreturn\u001b[39;00m _bin_op(\u001b[39m\"\u001b[39m\u001b[39mapply\u001b[39m\u001b[39m\"\u001b[39m)(\u001b[39mself\u001b[39m, k)\n",
      "File \u001b[1;32mC:\\Spark\\python\\pyspark\\sql\\column.py:566\u001b[0m, in \u001b[0;36mColumn.substr\u001b[1;34m(self, startPos, length)\u001b[0m\n\u001b[0;32m    548\u001b[0m \u001b[39m\u001b[39m\u001b[39m\"\"\"\u001b[39;00m\n\u001b[0;32m    549\u001b[0m \u001b[39mReturn a :class:`Column` which is a substring of the column.\u001b[39;00m\n\u001b[0;32m    550\u001b[0m \n\u001b[1;32m   (...)\u001b[0m\n\u001b[0;32m    563\u001b[0m \u001b[39m[Row(col='Ali'), Row(col='Bob')]\u001b[39;00m\n\u001b[0;32m    564\u001b[0m \u001b[39m\"\"\"\u001b[39;00m\n\u001b[0;32m    565\u001b[0m \u001b[39mif\u001b[39;00m \u001b[39mtype\u001b[39m(startPos) \u001b[39m!=\u001b[39m \u001b[39mtype\u001b[39m(length):\n\u001b[1;32m--> 566\u001b[0m     \u001b[39mraise\u001b[39;00m \u001b[39mTypeError\u001b[39;00m(\n\u001b[0;32m    567\u001b[0m         \u001b[39m\"\u001b[39m\u001b[39mstartPos and length must be the same type. \u001b[39m\u001b[39m\"\u001b[39m\n\u001b[0;32m    568\u001b[0m         \u001b[39m\"\u001b[39m\u001b[39mGot \u001b[39m\u001b[39m{startPos_t}\u001b[39;00m\u001b[39m and \u001b[39m\u001b[39m{length_t}\u001b[39;00m\u001b[39m, respectively.\u001b[39m\u001b[39m\"\u001b[39m\n\u001b[0;32m    569\u001b[0m         \u001b[39m.\u001b[39mformat(\n\u001b[0;32m    570\u001b[0m             startPos_t\u001b[39m=\u001b[39m\u001b[39mtype\u001b[39m(startPos),\n\u001b[0;32m    571\u001b[0m             length_t\u001b[39m=\u001b[39m\u001b[39mtype\u001b[39m(length),\n\u001b[0;32m    572\u001b[0m         ))\n\u001b[0;32m    573\u001b[0m \u001b[39mif\u001b[39;00m \u001b[39misinstance\u001b[39m(startPos, \u001b[39mint\u001b[39m):\n\u001b[0;32m    574\u001b[0m     jc \u001b[39m=\u001b[39m \u001b[39mself\u001b[39m\u001b[39m.\u001b[39m_jc\u001b[39m.\u001b[39msubstr(startPos, length)\n",
      "\u001b[1;31mTypeError\u001b[0m: startPos and length must be the same type. Got <class 'int'> and <class 'NoneType'>, respectively."
     ]
    }
   ],
   "source": [
    "#df = df.withColumn(col(\"CUST_PHONE\"), regexp_replace((\"CUST_PHONE\", \"(\\\\ d{3})(\\\\ d{3})(\\\\ d{4})\", \"($1) $2-$3\")))\n",
    "#df = df.select(format_string(col(\"CUST_PHONE\"),df[\"CUST_PHONE\"][:3],df['CUST_PHONE'][3:6],df['CUST_PHONE'][6:]))\n",
    "\n",
    "df = df.withColumn(\"CUST_PHONE\",df[\"CUST_PHONE\"].format_string(\"(%s-%s-%s)\",df[\"CUST_PHONE\"][:3],df['CUST_PHONE'][3:6],df['CUST_PHONE'][6:]))"
   ]
  },
  {
   "cell_type": "code",
   "execution_count": 63,
   "metadata": {},
   "outputs": [
    {
     "ename": "TypeError",
     "evalue": "regexp_replace() missing 2 required positional arguments: 'pattern' and 'replacement'",
     "output_type": "error",
     "traceback": [
      "\u001b[1;31m---------------------------------------------------------------------------\u001b[0m",
      "\u001b[1;31mTypeError\u001b[0m                                 Traceback (most recent call last)",
      "Cell \u001b[1;32mIn[63], line 1\u001b[0m\n\u001b[1;32m----> 1\u001b[0m df \u001b[39m=\u001b[39m df\u001b[39m.\u001b[39mselect (regexp_replace((\u001b[39m\"\u001b[39;49m\u001b[39mCUST_PHONE\u001b[39;49m\u001b[39m\"\u001b[39;49m, \u001b[39mr\u001b[39;49m\u001b[39m\"\u001b[39;49m\u001b[39m(\u001b[39;49m\u001b[39m\\\\\u001b[39;49;00m\u001b[39md\u001b[39;49m\u001b[39m{3}\u001b[39;49;00m\u001b[39m)(\u001b[39;49m\u001b[39m\\\\\u001b[39;49;00m\u001b[39md\u001b[39;49m\u001b[39m{3}\u001b[39;49;00m\u001b[39m)(\u001b[39;49m\u001b[39m\\\\\u001b[39;49;00m\u001b[39md\u001b[39;49m\u001b[39m{4}\u001b[39;49;00m\u001b[39m)\u001b[39;49m\u001b[39m\"\u001b[39;49m, \u001b[39m\"\u001b[39;49m\u001b[39m($1) $2-$3\u001b[39;49m\u001b[39m\"\u001b[39;49m)))\n",
      "\u001b[1;31mTypeError\u001b[0m: regexp_replace() missing 2 required positional arguments: 'pattern' and 'replacement'"
     ]
    }
   ],
   "source": [
    "df = df.select (regexp_replace((\"CUST_PHONE\", \"(d{3})(d{3})(d{4})\", \"($1) $2-$3\")))"
   ]
  },
  {
   "cell_type": "code",
   "execution_count": 43,
   "metadata": {},
   "outputs": [
    {
     "name": "stdout",
     "output_type": "stream",
     "text": [
      "+----+--------+------+----------------+------------+-------------+--------------------+--------------------+----------+---------+-----------+-------------------+--------------------+\n",
      "| ssn|CUST_ZIP|APT_NO|  CREDIT_CARD_NO|   CUST_CITY| CUST_COUNTRY|          CUST_EMAIL|          CUST_PHONE|CUST_STATE|LAST_NAME|MIDDLE_NAME|       LAST_UPDATED| FULL_STREET_ADDRESS|\n",
      "+----+--------+------+----------------+------------+-------------+--------------------+--------------------+----------+---------+-----------+-------------------+--------------------+\n",
      "|null|    null|   656|4210653310061055|     Natchez|United States| AHooper@example.com|({}) {}-{}.format...|        MS|   Hooper|         wm|2018-04-21 12:49:02|656,Main Street N...|\n",
      "|null|    null|   829|4210653310102868|Wethersfield|United States| EHolman@example.com|({}) {}-{}.format...|        CT|   Holman|    brendan|2018-04-21 12:49:02|   829,Redwood Drive|\n",
      "|null|    null|   683|4210653310116272|     Huntley|United States| WDunham@example.com|({}) {}-{}.format...|        IL|   Dunham|   ezequiel|2018-04-21 12:49:02|683,12th Street East|\n",
      "|null|    null|   253|4210653310195948|   NewBerlin|United States|  EHardy@example.com|({}) {}-{}.format...|        WI|    Hardy|      trina|2018-04-21 12:49:02|253,Country Club ...|\n",
      "|null|    null|   301|4210653310356919|      ElPaso|United States|  WAyers@example.com|({}) {}-{}.format...|        TX|    Ayers|        may|2018-04-21 12:49:02|  301,Madison Street|\n",
      "|null|    null|     3|4210653310395982|NorthOlmsted|United States|BWoodard@example.com|({}) {}-{}.format...|        OH|  Woodard|    ambrose|2018-04-21 12:49:02|    3,Colonial Drive|\n",
      "|null|    null|    84|4210653310400536|      Vienna|United States|   SKemp@example.com|({}) {}-{}.format...|        VA|     Kemp|      larry|2018-04-21 12:49:02|   84,Belmont Avenue|\n",
      "|null|    null|   728|4210653310459911|      Duarte|United States| WHurley@example.com|({}) {}-{}.format...|        CA|   Hurley|        ora|2018-04-21 12:49:02|    728,Oxford Court|\n",
      "|null|    null|    81|4210653310773972|      Owosso|United States|AGilmore@example.com|({}) {}-{}.format...|        MI|  Gilmore|     tracie|2018-04-21 12:49:02|    81,Forest Street|\n",
      "|null|    null|   561|4210653310794854|        Zion|United States|    BLau@example.com|({}) {}-{}.format...|        IL|      Lau|    mitchel|2018-04-21 12:49:02|    561,Court Street|\n",
      "|null|    null|   622|4210653310817373|  Youngstown|United States|EThomson@example.com|({}) {}-{}.format...|        OH|  Thomson|      denny|2018-04-21 12:49:02|   622,Cypress Court|\n",
      "|null|    null|   924|4210653310844617| Summerville|United States| ETruong@example.com|({}) {}-{}.format...|        SC|   Truong|   isabelle|2018-04-21 12:49:02| 924,8th Street West|\n",
      "|null|    null|   611|4210653311015303|      ElPaso|United States|HMckinney@example...|({}) {}-{}.format...|        TX| Mckinney|      henry|2018-04-21 12:49:02|     611,East Avenue|\n",
      "|null|    null|   680|4210653311215039|      Fenton|United States|   RKidd@example.com|({}) {}-{}.format...|        MI|     Kidd|     rickey|2018-04-21 12:49:02|        680,Route 44|\n",
      "|null|    null|    71|4210653311229354|  Grandville|United States|ABallard@example.com|({}) {}-{}.format...|        MI|  Ballard|  heriberto|2018-04-21 12:49:02|    71,Warren Street|\n",
      "|null|    null|   195|4210653311652836|    YubaCity|United States| PThomas@example.com|({}) {}-{}.format...|        CA|   Thomas|   angelita|2018-04-21 12:49:02|    195,Jones Street|\n",
      "|null|    null|   500|4210653311707126|   CapeCoral|United States| JMorrow@example.com|({}) {}-{}.format...|        FL|   Morrow|   dorothea|2018-04-21 12:49:02|      500,New Street|\n",
      "|null|    null|   989|4210653311730764|  Brookfield|United States|NAndrews@example.com|({}) {}-{}.format...|        WI|  Andrews|  jefferson|2018-04-21 12:49:02| 989,Division Street|\n",
      "|null|    null|   810|4210653311898082|    Richmond|United States|MSchneider@exampl...|({}) {}-{}.format...|        VA|Schneider|     maximo|2018-04-21 12:49:02|    810,Maple Street|\n",
      "|null|    null|   649|4210653312021765| WestChester|United States|PTidwell@example.com|({}) {}-{}.format...|        PA|  Tidwell|    arnulfo|2018-04-21 12:49:02|      649,Eagle Road|\n",
      "+----+--------+------+----------------+------------+-------------+--------------------+--------------------+----------+---------+-----------+-------------------+--------------------+\n",
      "only showing top 20 rows\n",
      "\n"
     ]
    }
   ],
   "source": [
    "df.show()"
   ]
  },
  {
   "cell_type": "markdown",
   "metadata": {},
   "source": []
  }
 ],
 "metadata": {
  "kernelspec": {
   "display_name": "Python 3",
   "language": "python",
   "name": "python3"
  },
  "language_info": {
   "codemirror_mode": {
    "name": "ipython",
    "version": 3
   },
   "file_extension": ".py",
   "mimetype": "text/x-python",
   "name": "python",
   "nbconvert_exporter": "python",
   "pygments_lexer": "ipython3",
   "version": "3.10.9"
  },
  "orig_nbformat": 4,
  "vscode": {
   "interpreter": {
    "hash": "52634da84371cba311ea128a5ea7cdc41ff074b781779e754b270ff9f8153cee"
   }
  }
 },
 "nbformat": 4,
 "nbformat_minor": 2
}
