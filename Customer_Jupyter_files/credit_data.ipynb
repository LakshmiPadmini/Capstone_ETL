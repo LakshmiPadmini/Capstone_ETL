{
 "cells": [
  {
   "cell_type": "code",
   "execution_count": 1,
   "metadata": {},
   "outputs": [],
   "source": [
    "import findspark\n",
    "findspark.init()\n",
    "import pyspark\n",
    "from pyspark.sql import SparkSession\n",
    "from pyspark.sql.types import (StructField,StringType,IntegerType,DoubleType,StructType,TimestampType)\n",
    "from pyspark.sql.functions import *\n",
    "import pandas as pd"
   ]
  },
  {
   "cell_type": "code",
   "execution_count": 2,
   "metadata": {},
   "outputs": [],
   "source": [
    "spark = SparkSession.builder.appName('SparkByCredit').getOrCreate()"
   ]
  },
  {
   "cell_type": "code",
   "execution_count": 3,
   "metadata": {},
   "outputs": [],
   "source": [
    "df = pd.read_json(\"cdw_sapp_credit.json\",lines=True)"
   ]
  },
  {
   "cell_type": "code",
   "execution_count": 4,
   "metadata": {},
   "outputs": [
    {
     "data": {
      "text/html": [
       "<div>\n",
       "<style scoped>\n",
       "    .dataframe tbody tr th:only-of-type {\n",
       "        vertical-align: middle;\n",
       "    }\n",
       "\n",
       "    .dataframe tbody tr th {\n",
       "        vertical-align: top;\n",
       "    }\n",
       "\n",
       "    .dataframe thead th {\n",
       "        text-align: right;\n",
       "    }\n",
       "</style>\n",
       "<table border=\"1\" class=\"dataframe\">\n",
       "  <thead>\n",
       "    <tr style=\"text-align: right;\">\n",
       "      <th></th>\n",
       "      <th>TRANSACTION_ID</th>\n",
       "      <th>DAY</th>\n",
       "      <th>MONTH</th>\n",
       "      <th>YEAR</th>\n",
       "      <th>CREDIT_CARD_NO</th>\n",
       "      <th>CUST_SSN</th>\n",
       "      <th>BRANCH_CODE</th>\n",
       "      <th>TRANSACTION_TYPE</th>\n",
       "      <th>TRANSACTION_VALUE</th>\n",
       "    </tr>\n",
       "  </thead>\n",
       "  <tbody>\n",
       "    <tr>\n",
       "      <th>0</th>\n",
       "      <td>1</td>\n",
       "      <td>14</td>\n",
       "      <td>2</td>\n",
       "      <td>2018</td>\n",
       "      <td>4210653349028689</td>\n",
       "      <td>123459988</td>\n",
       "      <td>114</td>\n",
       "      <td>Education</td>\n",
       "      <td>78.90</td>\n",
       "    </tr>\n",
       "    <tr>\n",
       "      <th>1</th>\n",
       "      <td>2</td>\n",
       "      <td>20</td>\n",
       "      <td>3</td>\n",
       "      <td>2018</td>\n",
       "      <td>4210653349028689</td>\n",
       "      <td>123459988</td>\n",
       "      <td>35</td>\n",
       "      <td>Entertainment</td>\n",
       "      <td>14.24</td>\n",
       "    </tr>\n",
       "    <tr>\n",
       "      <th>2</th>\n",
       "      <td>3</td>\n",
       "      <td>8</td>\n",
       "      <td>7</td>\n",
       "      <td>2018</td>\n",
       "      <td>4210653349028689</td>\n",
       "      <td>123459988</td>\n",
       "      <td>160</td>\n",
       "      <td>Grocery</td>\n",
       "      <td>56.70</td>\n",
       "    </tr>\n",
       "    <tr>\n",
       "      <th>3</th>\n",
       "      <td>4</td>\n",
       "      <td>19</td>\n",
       "      <td>4</td>\n",
       "      <td>2018</td>\n",
       "      <td>4210653349028689</td>\n",
       "      <td>123459988</td>\n",
       "      <td>114</td>\n",
       "      <td>Entertainment</td>\n",
       "      <td>59.73</td>\n",
       "    </tr>\n",
       "    <tr>\n",
       "      <th>4</th>\n",
       "      <td>5</td>\n",
       "      <td>10</td>\n",
       "      <td>10</td>\n",
       "      <td>2018</td>\n",
       "      <td>4210653349028689</td>\n",
       "      <td>123459988</td>\n",
       "      <td>93</td>\n",
       "      <td>Gas</td>\n",
       "      <td>3.59</td>\n",
       "    </tr>\n",
       "  </tbody>\n",
       "</table>\n",
       "</div>"
      ],
      "text/plain": [
       "   TRANSACTION_ID  DAY  MONTH  YEAR    CREDIT_CARD_NO   CUST_SSN  BRANCH_CODE  \\\n",
       "0               1   14      2  2018  4210653349028689  123459988          114   \n",
       "1               2   20      3  2018  4210653349028689  123459988           35   \n",
       "2               3    8      7  2018  4210653349028689  123459988          160   \n",
       "3               4   19      4  2018  4210653349028689  123459988          114   \n",
       "4               5   10     10  2018  4210653349028689  123459988           93   \n",
       "\n",
       "  TRANSACTION_TYPE  TRANSACTION_VALUE  \n",
       "0        Education              78.90  \n",
       "1    Entertainment              14.24  \n",
       "2          Grocery              56.70  \n",
       "3    Entertainment              59.73  \n",
       "4              Gas               3.59  "
      ]
     },
     "execution_count": 4,
     "metadata": {},
     "output_type": "execute_result"
    }
   ],
   "source": [
    "df.head()"
   ]
  },
  {
   "cell_type": "code",
   "execution_count": 16,
   "metadata": {},
   "outputs": [
    {
     "data": {
      "text/plain": [
       "TRANSACTION_ID         int64\n",
       "DAY                    int64\n",
       "MONTH                  int64\n",
       "YEAR                   int64\n",
       "CREDIT_CARD_NO         int64\n",
       "CUST_SSN               int64\n",
       "BRANCH_CODE            int64\n",
       "TRANSACTION_TYPE      object\n",
       "TRANSACTION_VALUE    float64\n",
       "dtype: object"
      ]
     },
     "execution_count": 16,
     "metadata": {},
     "output_type": "execute_result"
    }
   ],
   "source": [
    "df.dtypes"
   ]
  },
  {
   "cell_type": "code",
   "execution_count": 17,
   "metadata": {},
   "outputs": [
    {
     "name": "stdout",
     "output_type": "stream",
     "text": [
      "<class 'pandas.core.frame.DataFrame'>\n",
      "RangeIndex: 46694 entries, 0 to 46693\n",
      "Data columns (total 9 columns):\n",
      " #   Column             Non-Null Count  Dtype  \n",
      "---  ------             --------------  -----  \n",
      " 0   TRANSACTION_ID     46694 non-null  int64  \n",
      " 1   DAY                46694 non-null  int64  \n",
      " 2   MONTH              46694 non-null  int64  \n",
      " 3   YEAR               46694 non-null  int64  \n",
      " 4   CREDIT_CARD_NO     46694 non-null  int64  \n",
      " 5   CUST_SSN           46694 non-null  int64  \n",
      " 6   BRANCH_CODE        46694 non-null  int64  \n",
      " 7   TRANSACTION_TYPE   46694 non-null  object \n",
      " 8   TRANSACTION_VALUE  46694 non-null  float64\n",
      "dtypes: float64(1), int64(7), object(1)\n",
      "memory usage: 3.2+ MB\n"
     ]
    }
   ],
   "source": [
    "df.info()"
   ]
  },
  {
   "cell_type": "code",
   "execution_count": null,
   "metadata": {},
   "outputs": [],
   "source": [
    "\n",
    "df = df.rename(columns={\"CREDIT_CARD_NO\":\"CUST_CC_NO\"})\n",
    "df[\"TRANSACTION_TYPE\"] = df[\"TRANSACTION_TYPE\"].astype(str)\n",
    "df[\"TRANSACTION_VALUE\"] = df[\"TRANSACTION_VALUE\"].astype(float)\n",
    "df[\"CUST_CC_NO\"] = df[\"CUST_CC_NO\"].astype(str)\n",
    "df['date'] = pd.to_datetime(df[['YEAR','MONTH','DAY']], format='%d-%m-%Y')\n",
    "df['TIMEID'] = df['date'].dt.strftime('%Y%m%d')\n",
    "df = df.drop(['DAY',\"MONTH\",\"YEAR\"], axis=1)\n",
    "df = df.drop(\"date\",axis=1)\n",
    "df\n",
    "\n",
    "\n"
   ]
  },
  {
   "cell_type": "code",
   "execution_count": 12,
   "metadata": {},
   "outputs": [
    {
     "data": {
      "text/html": [
       "<div>\n",
       "<style scoped>\n",
       "    .dataframe tbody tr th:only-of-type {\n",
       "        vertical-align: middle;\n",
       "    }\n",
       "\n",
       "    .dataframe tbody tr th {\n",
       "        vertical-align: top;\n",
       "    }\n",
       "\n",
       "    .dataframe thead th {\n",
       "        text-align: right;\n",
       "    }\n",
       "</style>\n",
       "<table border=\"1\" class=\"dataframe\">\n",
       "  <thead>\n",
       "    <tr style=\"text-align: right;\">\n",
       "      <th></th>\n",
       "      <th>TRANSACTION_ID</th>\n",
       "      <th>CUST_CC_NO</th>\n",
       "      <th>CUST_SSN</th>\n",
       "      <th>BRANCH_CODE</th>\n",
       "      <th>TRANSACTION_TYPE</th>\n",
       "      <th>TRANSACTION_VALUE</th>\n",
       "      <th>TIMEID</th>\n",
       "    </tr>\n",
       "  </thead>\n",
       "  <tbody>\n",
       "    <tr>\n",
       "      <th>0</th>\n",
       "      <td>1</td>\n",
       "      <td>4210653349028689</td>\n",
       "      <td>123459988</td>\n",
       "      <td>114</td>\n",
       "      <td>Education</td>\n",
       "      <td>78.90</td>\n",
       "      <td>20180214</td>\n",
       "    </tr>\n",
       "    <tr>\n",
       "      <th>1</th>\n",
       "      <td>2</td>\n",
       "      <td>4210653349028689</td>\n",
       "      <td>123459988</td>\n",
       "      <td>35</td>\n",
       "      <td>Entertainment</td>\n",
       "      <td>14.24</td>\n",
       "      <td>20180320</td>\n",
       "    </tr>\n",
       "    <tr>\n",
       "      <th>2</th>\n",
       "      <td>3</td>\n",
       "      <td>4210653349028689</td>\n",
       "      <td>123459988</td>\n",
       "      <td>160</td>\n",
       "      <td>Grocery</td>\n",
       "      <td>56.70</td>\n",
       "      <td>20180708</td>\n",
       "    </tr>\n",
       "    <tr>\n",
       "      <th>3</th>\n",
       "      <td>4</td>\n",
       "      <td>4210653349028689</td>\n",
       "      <td>123459988</td>\n",
       "      <td>114</td>\n",
       "      <td>Entertainment</td>\n",
       "      <td>59.73</td>\n",
       "      <td>20180419</td>\n",
       "    </tr>\n",
       "    <tr>\n",
       "      <th>4</th>\n",
       "      <td>5</td>\n",
       "      <td>4210653349028689</td>\n",
       "      <td>123459988</td>\n",
       "      <td>93</td>\n",
       "      <td>Gas</td>\n",
       "      <td>3.59</td>\n",
       "      <td>20181010</td>\n",
       "    </tr>\n",
       "    <tr>\n",
       "      <th>5</th>\n",
       "      <td>6</td>\n",
       "      <td>4210653349028689</td>\n",
       "      <td>123459988</td>\n",
       "      <td>164</td>\n",
       "      <td>Education</td>\n",
       "      <td>6.89</td>\n",
       "      <td>20180528</td>\n",
       "    </tr>\n",
       "    <tr>\n",
       "      <th>6</th>\n",
       "      <td>7</td>\n",
       "      <td>4210653349028689</td>\n",
       "      <td>123459988</td>\n",
       "      <td>119</td>\n",
       "      <td>Entertainment</td>\n",
       "      <td>43.39</td>\n",
       "      <td>20180519</td>\n",
       "    </tr>\n",
       "    <tr>\n",
       "      <th>7</th>\n",
       "      <td>8</td>\n",
       "      <td>4210653349028689</td>\n",
       "      <td>123459988</td>\n",
       "      <td>23</td>\n",
       "      <td>Gas</td>\n",
       "      <td>95.39</td>\n",
       "      <td>20180808</td>\n",
       "    </tr>\n",
       "    <tr>\n",
       "      <th>8</th>\n",
       "      <td>9</td>\n",
       "      <td>4210653349028689</td>\n",
       "      <td>123459988</td>\n",
       "      <td>166</td>\n",
       "      <td>Entertainment</td>\n",
       "      <td>93.26</td>\n",
       "      <td>20180318</td>\n",
       "    </tr>\n",
       "    <tr>\n",
       "      <th>9</th>\n",
       "      <td>10</td>\n",
       "      <td>4210653349028689</td>\n",
       "      <td>123459988</td>\n",
       "      <td>83</td>\n",
       "      <td>Bills</td>\n",
       "      <td>100.38</td>\n",
       "      <td>20180903</td>\n",
       "    </tr>\n",
       "  </tbody>\n",
       "</table>\n",
       "</div>"
      ],
      "text/plain": [
       "   TRANSACTION_ID        CUST_CC_NO   CUST_SSN  BRANCH_CODE TRANSACTION_TYPE  \\\n",
       "0               1  4210653349028689  123459988          114        Education   \n",
       "1               2  4210653349028689  123459988           35    Entertainment   \n",
       "2               3  4210653349028689  123459988          160          Grocery   \n",
       "3               4  4210653349028689  123459988          114    Entertainment   \n",
       "4               5  4210653349028689  123459988           93              Gas   \n",
       "5               6  4210653349028689  123459988          164        Education   \n",
       "6               7  4210653349028689  123459988          119    Entertainment   \n",
       "7               8  4210653349028689  123459988           23              Gas   \n",
       "8               9  4210653349028689  123459988          166    Entertainment   \n",
       "9              10  4210653349028689  123459988           83            Bills   \n",
       "\n",
       "   TRANSACTION_VALUE    TIMEID  \n",
       "0              78.90  20180214  \n",
       "1              14.24  20180320  \n",
       "2              56.70  20180708  \n",
       "3              59.73  20180419  \n",
       "4               3.59  20181010  \n",
       "5               6.89  20180528  \n",
       "6              43.39  20180519  \n",
       "7              95.39  20180808  \n",
       "8              93.26  20180318  \n",
       "9             100.38  20180903  "
      ]
     },
     "execution_count": 12,
     "metadata": {},
     "output_type": "execute_result"
    }
   ],
   "source": [
    "df_top10 = df.head(10)\n",
    "df_top10"
   ]
  },
  {
   "cell_type": "code",
   "execution_count": 13,
   "metadata": {},
   "outputs": [
    {
     "name": "stderr",
     "output_type": "stream",
     "text": [
      "C:\\Spark\\python\\pyspark\\sql\\pandas\\conversion.py:371: FutureWarning: iteritems is deprecated and will be removed in a future version. Use .items instead.\n",
      "  for column, series in pdf.iteritems():\n"
     ]
    }
   ],
   "source": [
    "spark_credit_df = spark.createDataFrame(df)"
   ]
  },
  {
   "cell_type": "code",
   "execution_count": 14,
   "metadata": {},
   "outputs": [
    {
     "name": "stdout",
     "output_type": "stream",
     "text": [
      "+--------------+----------------+---------+-----------+----------------+-----------------+--------+\n",
      "|TRANSACTION_ID|      CUST_CC_NO| CUST_SSN|BRANCH_CODE|TRANSACTION_TYPE|TRANSACTION_VALUE|  TIMEID|\n",
      "+--------------+----------------+---------+-----------+----------------+-----------------+--------+\n",
      "|             1|4210653349028689|123459988|        114|       Education|             78.9|20180214|\n",
      "|             2|4210653349028689|123459988|         35|   Entertainment|            14.24|20180320|\n",
      "|             3|4210653349028689|123459988|        160|         Grocery|             56.7|20180708|\n",
      "|             4|4210653349028689|123459988|        114|   Entertainment|            59.73|20180419|\n",
      "|             5|4210653349028689|123459988|         93|             Gas|             3.59|20181010|\n",
      "|             6|4210653349028689|123459988|        164|       Education|             6.89|20180528|\n",
      "|             7|4210653349028689|123459988|        119|   Entertainment|            43.39|20180519|\n",
      "|             8|4210653349028689|123459988|         23|             Gas|            95.39|20180808|\n",
      "|             9|4210653349028689|123459988|        166|   Entertainment|            93.26|20180318|\n",
      "|            10|4210653349028689|123459988|         83|           Bills|           100.38|20180903|\n",
      "+--------------+----------------+---------+-----------+----------------+-----------------+--------+\n",
      "\n"
     ]
    }
   ],
   "source": [
    "spark_credit_df.show()"
   ]
  },
  {
   "cell_type": "code",
   "execution_count": 8,
   "metadata": {},
   "outputs": [],
   "source": [
    "spark_credit_df.write.format(\"jdbc\").mode(\"append\")\\\n",
    "        .option(\"url\",\"jdbc:mysql://localhost:3306/creditcard_capstone\")\\\n",
    "        .option(\"dbtable\",\"creditcard_capstone.CDW_SAPP_CREDIT_CARD\")\\\n",
    "        .option(\"user\",\"root\")\\\n",
    "        .option(\"password\",\"password\")\\\n",
    "        .save()"
   ]
  }
 ],
 "metadata": {
  "kernelspec": {
   "display_name": "Python 3",
   "language": "python",
   "name": "python3"
  },
  "language_info": {
   "codemirror_mode": {
    "name": "ipython",
    "version": 3
   },
   "file_extension": ".py",
   "mimetype": "text/x-python",
   "name": "python",
   "nbconvert_exporter": "python",
   "pygments_lexer": "ipython3",
   "version": "3.10.9"
  },
  "orig_nbformat": 4,
  "vscode": {
   "interpreter": {
    "hash": "52634da84371cba311ea128a5ea7cdc41ff074b781779e754b270ff9f8153cee"
   }
  }
 },
 "nbformat": 4,
 "nbformat_minor": 2
}
