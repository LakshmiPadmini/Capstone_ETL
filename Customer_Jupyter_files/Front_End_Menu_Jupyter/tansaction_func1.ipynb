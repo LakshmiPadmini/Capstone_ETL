{
 "cells": [
  {
   "cell_type": "code",
   "execution_count": 51,
   "metadata": {},
   "outputs": [],
   "source": [
    "import findspark\n",
    "findspark.init()\n",
    "\n",
    "import datetime as dt\n",
    "import pymysql\n",
    "import pandas.io.sql as psql\n",
    "import pandas as pd\n",
    "import pyspark\n",
    "from pyspark.sql import SparkSession\n",
    "import pyinputplus\n",
    "\n"
   ]
  },
  {
   "cell_type": "code",
   "execution_count": 30,
   "metadata": {},
   "outputs": [],
   "source": [
    "spark = SparkSession.builder.master(\"local[1]\").appName('Credit_card.com').getOrCreate()"
   ]
  },
  {
   "cell_type": "code",
   "execution_count": 52,
   "metadata": {},
   "outputs": [],
   "source": [
    "connection = pymysql.connect(\n",
    "    host='localhost',\n",
    "    user='root',\n",
    "    password='password',\n",
    "    database='creditcard_capstone'\n",
    ")\n"
   ]
  },
  {
   "attachments": {},
   "cell_type": "markdown",
   "metadata": {},
   "source": [
    "1)    Used to display the transactions made by customers living in a given zip code for a given month and year. Order by day in descending order."
   ]
  },
  {
   "cell_type": "code",
   "execution_count": 53,
   "metadata": {},
   "outputs": [],
   "source": [
    "cursor = connection.cursor()"
   ]
  },
  {
   "cell_type": "code",
   "execution_count": 47,
   "metadata": {},
   "outputs": [
    {
     "name": "stderr",
     "output_type": "stream",
     "text": [
      "C:\\Users\\Learner_XZHCG225\\AppData\\Local\\Temp\\ipykernel_21040\\3176533159.py:4: UserWarning: pandas only supports SQLAlchemy connectable (engine/connection) or database string URI or sqlite3 DBAPI2 connection. Other DBAPI2 objects are not tested. Please consider using SQLAlchemy.\n",
      "  data_frame = psql.read_sql(sql, con=connection)\n"
     ]
    }
   ],
   "source": [
    "sql = \"SELECT c.CUST_ZIP,c.SSN,cc.CUST_SSN,cc.TRANSACTION_VALUE,cc.TRANSACTION_TYPE,cc.TIMEID FROM cdw_sapp_customer c  JOIN cdw_sapp_credit_card cc ON c.SSN=cc.CUST_SSN \"\n",
    "cursor.execute(sql)\n",
    "result_set = cursor.fetchall()\n",
    "data_frame = psql.read_sql(sql, con=connection)\n",
    "pd.set_option(\"display.max_columns\", None)"
   ]
  },
  {
   "cell_type": "code",
   "execution_count": 42,
   "metadata": {},
   "outputs": [
    {
     "data": {
      "text/html": [
       "<div>\n",
       "<style scoped>\n",
       "    .dataframe tbody tr th:only-of-type {\n",
       "        vertical-align: middle;\n",
       "    }\n",
       "\n",
       "    .dataframe tbody tr th {\n",
       "        vertical-align: top;\n",
       "    }\n",
       "\n",
       "    .dataframe thead th {\n",
       "        text-align: right;\n",
       "    }\n",
       "</style>\n",
       "<table border=\"1\" class=\"dataframe\">\n",
       "  <thead>\n",
       "    <tr style=\"text-align: right;\">\n",
       "      <th></th>\n",
       "      <th>CUST_ZIP</th>\n",
       "      <th>SSN</th>\n",
       "      <th>CUST_SSN</th>\n",
       "      <th>TRANSACTION_VALUE</th>\n",
       "      <th>TRANSACTION_TYPE</th>\n",
       "      <th>TIMEID</th>\n",
       "    </tr>\n",
       "  </thead>\n",
       "  <tbody>\n",
       "    <tr>\n",
       "      <th>0</th>\n",
       "      <td>21042</td>\n",
       "      <td>123456698</td>\n",
       "      <td>123456698</td>\n",
       "      <td>25.49</td>\n",
       "      <td>Entertainment</td>\n",
       "      <td>20181220</td>\n",
       "    </tr>\n",
       "    <tr>\n",
       "      <th>1</th>\n",
       "      <td>21042</td>\n",
       "      <td>123456698</td>\n",
       "      <td>123456698</td>\n",
       "      <td>47.08</td>\n",
       "      <td>Grocery</td>\n",
       "      <td>20181221</td>\n",
       "    </tr>\n",
       "    <tr>\n",
       "      <th>2</th>\n",
       "      <td>21042</td>\n",
       "      <td>123456698</td>\n",
       "      <td>123456698</td>\n",
       "      <td>82.87</td>\n",
       "      <td>Test</td>\n",
       "      <td>20181101</td>\n",
       "    </tr>\n",
       "    <tr>\n",
       "      <th>3</th>\n",
       "      <td>21042</td>\n",
       "      <td>123456698</td>\n",
       "      <td>123456698</td>\n",
       "      <td>65.46</td>\n",
       "      <td>Bills</td>\n",
       "      <td>20180114</td>\n",
       "    </tr>\n",
       "    <tr>\n",
       "      <th>4</th>\n",
       "      <td>21042</td>\n",
       "      <td>123456698</td>\n",
       "      <td>123456698</td>\n",
       "      <td>95.63</td>\n",
       "      <td>Grocery</td>\n",
       "      <td>20180808</td>\n",
       "    </tr>\n",
       "    <tr>\n",
       "      <th>...</th>\n",
       "      <td>...</td>\n",
       "      <td>...</td>\n",
       "      <td>...</td>\n",
       "      <td>...</td>\n",
       "      <td>...</td>\n",
       "      <td>...</td>\n",
       "    </tr>\n",
       "    <tr>\n",
       "      <th>46689</th>\n",
       "      <td>21206</td>\n",
       "      <td>123452196</td>\n",
       "      <td>123452196</td>\n",
       "      <td>96.18</td>\n",
       "      <td>Gas</td>\n",
       "      <td>20180514</td>\n",
       "    </tr>\n",
       "    <tr>\n",
       "      <th>46690</th>\n",
       "      <td>21206</td>\n",
       "      <td>123452196</td>\n",
       "      <td>123452196</td>\n",
       "      <td>76.23</td>\n",
       "      <td>Entertainment</td>\n",
       "      <td>20180921</td>\n",
       "    </tr>\n",
       "    <tr>\n",
       "      <th>46691</th>\n",
       "      <td>21206</td>\n",
       "      <td>123452196</td>\n",
       "      <td>123452196</td>\n",
       "      <td>39.10</td>\n",
       "      <td>Grocery</td>\n",
       "      <td>20180711</td>\n",
       "    </tr>\n",
       "    <tr>\n",
       "      <th>46692</th>\n",
       "      <td>21206</td>\n",
       "      <td>123452196</td>\n",
       "      <td>123452196</td>\n",
       "      <td>73.29</td>\n",
       "      <td>Education</td>\n",
       "      <td>20180317</td>\n",
       "    </tr>\n",
       "    <tr>\n",
       "      <th>46693</th>\n",
       "      <td>21206</td>\n",
       "      <td>123452196</td>\n",
       "      <td>123452196</td>\n",
       "      <td>38.14</td>\n",
       "      <td>Healthcare</td>\n",
       "      <td>20181002</td>\n",
       "    </tr>\n",
       "  </tbody>\n",
       "</table>\n",
       "<p>46694 rows × 6 columns</p>\n",
       "</div>"
      ],
      "text/plain": [
       "       CUST_ZIP        SSN   CUST_SSN  TRANSACTION_VALUE TRANSACTION_TYPE  \\\n",
       "0         21042  123456698  123456698              25.49    Entertainment   \n",
       "1         21042  123456698  123456698              47.08          Grocery   \n",
       "2         21042  123456698  123456698              82.87             Test   \n",
       "3         21042  123456698  123456698              65.46            Bills   \n",
       "4         21042  123456698  123456698              95.63          Grocery   \n",
       "...         ...        ...        ...                ...              ...   \n",
       "46689     21206  123452196  123452196              96.18              Gas   \n",
       "46690     21206  123452196  123452196              76.23    Entertainment   \n",
       "46691     21206  123452196  123452196              39.10          Grocery   \n",
       "46692     21206  123452196  123452196              73.29        Education   \n",
       "46693     21206  123452196  123452196              38.14       Healthcare   \n",
       "\n",
       "         TIMEID  \n",
       "0      20181220  \n",
       "1      20181221  \n",
       "2      20181101  \n",
       "3      20180114  \n",
       "4      20180808  \n",
       "...         ...  \n",
       "46689  20180514  \n",
       "46690  20180921  \n",
       "46691  20180711  \n",
       "46692  20180317  \n",
       "46693  20181002  \n",
       "\n",
       "[46694 rows x 6 columns]"
      ]
     },
     "execution_count": 42,
     "metadata": {},
     "output_type": "execute_result"
    }
   ],
   "source": [
    "data_frame"
   ]
  },
  {
   "cell_type": "code",
   "execution_count": 35,
   "metadata": {},
   "outputs": [
    {
     "name": "stderr",
     "output_type": "stream",
     "text": [
      "C:\\Spark\\python\\pyspark\\sql\\pandas\\conversion.py:371: FutureWarning: iteritems is deprecated and will be removed in a future version. Use .items instead.\n",
      "  for column, series in pdf.iteritems():\n"
     ]
    }
   ],
   "source": [
    "spark_df = spark.createDataFrame(data_frame)"
   ]
  },
  {
   "cell_type": "code",
   "execution_count": 24,
   "metadata": {},
   "outputs": [],
   "source": [
    "data_frame[\"TIMEID\"] = pd.to_datetime(data_frame[\"TIMEID\"],format='%Y%m%d')"
   ]
  },
  {
   "cell_type": "code",
   "execution_count": null,
   "metadata": {},
   "outputs": [],
   "source": [
    "data_frame"
   ]
  },
  {
   "cell_type": "code",
   "execution_count": 26,
   "metadata": {},
   "outputs": [],
   "source": [
    "def tansaction_mod1():\n",
    "    zipcode = 21042 \n",
    "    month = 11\n",
    "    year = 2018\n",
    "    customer_transaction = data_frame[(data_frame.CUST_ZIP == zipcode) &\n",
    "                                      (data_frame.TIMEID.dt.month == month) &\n",
    "                                      (data_frame.TIMEID.dt.year == year)]\n",
    "    daily_values = customer_transaction.groupby(customer_transaction.TIMEID.dt.day)[\"TRANSACTION_VALUE\"].sum()\n",
    "    result =pd.DataFrame({\"Day\": daily_values.index, \"Transaction Value\": daily_values.values})\n",
    "    result = result.sort_values(\"Day\", ascending=False)\n",
    "    print(result)\n",
    "\n",
    "    "
   ]
  },
  {
   "cell_type": "code",
   "execution_count": 28,
   "metadata": {},
   "outputs": [
    {
     "name": "stdout",
     "output_type": "stream",
     "text": [
      "    Day  Transaction Value\n",
      "12   28              44.55\n",
      "11   27             142.71\n",
      "10   24              70.38\n",
      "9    21              41.48\n",
      "8    20             161.81\n",
      "7    13              61.27\n",
      "6    12              63.23\n",
      "5    11              47.01\n",
      "4     9             185.87\n",
      "3     6              10.59\n",
      "2     3             103.98\n",
      "1     2              81.29\n",
      "0     1             176.93\n"
     ]
    }
   ],
   "source": [
    "tansaction_mod1()"
   ]
  },
  {
   "cell_type": "code",
   "execution_count": null,
   "metadata": {},
   "outputs": [],
   "source": [
    "   Used to display the number and total values of transactions for a given type."
   ]
  },
  {
   "cell_type": "code",
   "execution_count": 50,
   "metadata": {},
   "outputs": [
    {
     "name": "stdout",
     "output_type": "stream",
     "text": [
      "                  trans_count  trans_val\n",
      "TRANSACTION_TYPE                        \n",
      "Bills                    6861  351405.28\n"
     ]
    }
   ],
   "source": [
    "def transaction_mod2():\n",
    "    transaction_type = 'Bills'\n",
    "    transaction_type = data_frame[(data_frame['TRANSACTION_TYPE']=='Bills')&(data_frame['TRANSACTION_VALUE'])]\n",
    "    transaction_df = transaction_type.groupby('TRANSACTION_TYPE').agg(trans_count=('TRANSACTION_TYPE', 'count'), \n",
    "                                                  trans_val=('TRANSACTION_VALUE', 'sum'))\n",
    "    transaction_df['trans_val'] = round(transaction_df['trans_val'], 2)\n",
    "    print(transaction_df)\n",
    "\n",
    "transaction_mod2()\n",
    "\n"
   ]
  },
  {
   "attachments": {},
   "cell_type": "markdown",
   "metadata": {},
   "source": [
    "Used to display the total number and total values of transactions for branches in a given state."
   ]
  },
  {
   "cell_type": "code",
   "execution_count": 54,
   "metadata": {},
   "outputs": [
    {
     "name": "stderr",
     "output_type": "stream",
     "text": [
      "C:\\Users\\Learner_XZHCG225\\AppData\\Local\\Temp\\ipykernel_21040\\914311548.py:4: UserWarning: pandas only supports SQLAlchemy connectable (engine/connection) or database string URI or sqlite3 DBAPI2 connection. Other DBAPI2 objects are not tested. Please consider using SQLAlchemy.\n",
      "  data_frame = psql.read_sql(sql, con=connection)\n"
     ]
    }
   ],
   "source": [
    "sql = \"SELECT bc.BRANCH_CODE,bc.BRANCH_STATE,cc.TRANSACTION_VALUE,cc.TRANSACTION_TYPE,cc.BRANCH_CODE FROM cdw_sapp_branch bc JOIN cdw_sapp_credit_card cc ON bc.BRANCH_CODE=cc.BRANCH_CODE\"\n",
    "cursor.execute(sql)\n",
    "result_set = cursor.fetchall()\n",
    "data_frame = psql.read_sql(sql, con=connection)\n",
    "pd.set_option(\"display.max_columns\", None)"
   ]
  },
  {
   "cell_type": "code",
   "execution_count": 55,
   "metadata": {},
   "outputs": [
    {
     "data": {
      "text/html": [
       "<div>\n",
       "<style scoped>\n",
       "    .dataframe tbody tr th:only-of-type {\n",
       "        vertical-align: middle;\n",
       "    }\n",
       "\n",
       "    .dataframe tbody tr th {\n",
       "        vertical-align: top;\n",
       "    }\n",
       "\n",
       "    .dataframe thead th {\n",
       "        text-align: right;\n",
       "    }\n",
       "</style>\n",
       "<table border=\"1\" class=\"dataframe\">\n",
       "  <thead>\n",
       "    <tr style=\"text-align: right;\">\n",
       "      <th></th>\n",
       "      <th>BRANCH_CODE</th>\n",
       "      <th>BRANCH_STATE</th>\n",
       "      <th>TRANSACTION_VALUE</th>\n",
       "      <th>TRANSACTION_TYPE</th>\n",
       "      <th>BRANCH_CODE</th>\n",
       "    </tr>\n",
       "  </thead>\n",
       "  <tbody>\n",
       "    <tr>\n",
       "      <th>0</th>\n",
       "      <td>43</td>\n",
       "      <td>TX</td>\n",
       "      <td>25.49</td>\n",
       "      <td>Entertainment</td>\n",
       "      <td>43</td>\n",
       "    </tr>\n",
       "    <tr>\n",
       "      <th>1</th>\n",
       "      <td>63</td>\n",
       "      <td>MS</td>\n",
       "      <td>47.08</td>\n",
       "      <td>Grocery</td>\n",
       "      <td>63</td>\n",
       "    </tr>\n",
       "    <tr>\n",
       "      <th>2</th>\n",
       "      <td>12</td>\n",
       "      <td>MI</td>\n",
       "      <td>82.87</td>\n",
       "      <td>Test</td>\n",
       "      <td>12</td>\n",
       "    </tr>\n",
       "    <tr>\n",
       "      <th>3</th>\n",
       "      <td>44</td>\n",
       "      <td>NC</td>\n",
       "      <td>65.46</td>\n",
       "      <td>Bills</td>\n",
       "      <td>44</td>\n",
       "    </tr>\n",
       "    <tr>\n",
       "      <th>4</th>\n",
       "      <td>7</td>\n",
       "      <td>NJ</td>\n",
       "      <td>95.63</td>\n",
       "      <td>Grocery</td>\n",
       "      <td>7</td>\n",
       "    </tr>\n",
       "    <tr>\n",
       "      <th>...</th>\n",
       "      <td>...</td>\n",
       "      <td>...</td>\n",
       "      <td>...</td>\n",
       "      <td>...</td>\n",
       "      <td>...</td>\n",
       "    </tr>\n",
       "    <tr>\n",
       "      <th>46689</th>\n",
       "      <td>72</td>\n",
       "      <td>OH</td>\n",
       "      <td>96.18</td>\n",
       "      <td>Gas</td>\n",
       "      <td>72</td>\n",
       "    </tr>\n",
       "    <tr>\n",
       "      <th>46690</th>\n",
       "      <td>42</td>\n",
       "      <td>OH</td>\n",
       "      <td>76.23</td>\n",
       "      <td>Entertainment</td>\n",
       "      <td>42</td>\n",
       "    </tr>\n",
       "    <tr>\n",
       "      <th>46691</th>\n",
       "      <td>107</td>\n",
       "      <td>OH</td>\n",
       "      <td>39.10</td>\n",
       "      <td>Grocery</td>\n",
       "      <td>107</td>\n",
       "    </tr>\n",
       "    <tr>\n",
       "      <th>46692</th>\n",
       "      <td>15</td>\n",
       "      <td>PA</td>\n",
       "      <td>73.29</td>\n",
       "      <td>Education</td>\n",
       "      <td>15</td>\n",
       "    </tr>\n",
       "    <tr>\n",
       "      <th>46693</th>\n",
       "      <td>111</td>\n",
       "      <td>NC</td>\n",
       "      <td>38.14</td>\n",
       "      <td>Healthcare</td>\n",
       "      <td>111</td>\n",
       "    </tr>\n",
       "  </tbody>\n",
       "</table>\n",
       "<p>46694 rows × 5 columns</p>\n",
       "</div>"
      ],
      "text/plain": [
       "       BRANCH_CODE BRANCH_STATE  TRANSACTION_VALUE TRANSACTION_TYPE  \\\n",
       "0               43           TX              25.49    Entertainment   \n",
       "1               63           MS              47.08          Grocery   \n",
       "2               12           MI              82.87             Test   \n",
       "3               44           NC              65.46            Bills   \n",
       "4                7           NJ              95.63          Grocery   \n",
       "...            ...          ...                ...              ...   \n",
       "46689           72           OH              96.18              Gas   \n",
       "46690           42           OH              76.23    Entertainment   \n",
       "46691          107           OH              39.10          Grocery   \n",
       "46692           15           PA              73.29        Education   \n",
       "46693          111           NC              38.14       Healthcare   \n",
       "\n",
       "       BRANCH_CODE  \n",
       "0               43  \n",
       "1               63  \n",
       "2               12  \n",
       "3               44  \n",
       "4                7  \n",
       "...            ...  \n",
       "46689           72  \n",
       "46690           42  \n",
       "46691          107  \n",
       "46692           15  \n",
       "46693          111  \n",
       "\n",
       "[46694 rows x 5 columns]"
      ]
     },
     "execution_count": 55,
     "metadata": {},
     "output_type": "execute_result"
    }
   ],
   "source": [
    "data_frame"
   ]
  },
  {
   "cell_type": "code",
   "execution_count": 61,
   "metadata": {},
   "outputs": [
    {
     "name": "stdout",
     "output_type": "stream",
     "text": [
      "              total_transactions\n",
      "BRANCH_STATE                    \n",
      "PA                     227451.26\n"
     ]
    }
   ],
   "source": [
    "def transaction_mod3():\n",
    "        branch_state = 'PA'\n",
    "        branch_transaction = data_frame[(data_frame['BRANCH_STATE']=='PA')&(data_frame['TRANSACTION_VALUE'])]\n",
    "        trans_by_branch_state = branch_transaction.groupby([ 'BRANCH_STATE']).agg(total_transactions=('TRANSACTION_VALUE', 'sum'))\n",
    "        print(trans_by_branch_state)\n",
    "\n",
    "transaction_mod3()"
   ]
  }
 ],
 "metadata": {
  "kernelspec": {
   "display_name": "Python 3",
   "language": "python",
   "name": "python3"
  },
  "language_info": {
   "codemirror_mode": {
    "name": "ipython",
    "version": 3
   },
   "file_extension": ".py",
   "mimetype": "text/x-python",
   "name": "python",
   "nbconvert_exporter": "python",
   "pygments_lexer": "ipython3",
   "version": "3.10.9"
  },
  "orig_nbformat": 4,
  "vscode": {
   "interpreter": {
    "hash": "52634da84371cba311ea128a5ea7cdc41ff074b781779e754b270ff9f8153cee"
   }
  }
 },
 "nbformat": 4,
 "nbformat_minor": 2
}
