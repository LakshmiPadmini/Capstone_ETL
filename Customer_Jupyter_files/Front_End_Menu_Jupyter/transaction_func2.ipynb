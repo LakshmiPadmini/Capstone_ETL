{
 "cells": [
  {
   "cell_type": "code",
   "execution_count": 221,
   "metadata": {},
   "outputs": [],
   "source": [
    "import findspark\n",
    "findspark.init()\n",
    "\n",
    "import datetime as dt\n",
    "\n",
    "import pymysql\n",
    "import pandas.io.sql as psql\n",
    "import pandas as pd\n",
    "import pyspark\n",
    "from pyspark.sql.functions import to_date, month,year,dayofmonth\n",
    "from pyspark.sql import SparkSession\n",
    "import pyinputplus\n",
    "import regex as re"
   ]
  },
  {
   "cell_type": "code",
   "execution_count": 222,
   "metadata": {},
   "outputs": [],
   "source": [
    "spark = SparkSession.builder.master(\"local[1]\").appName('Credit_card.com').getOrCreate()"
   ]
  },
  {
   "cell_type": "code",
   "execution_count": 223,
   "metadata": {},
   "outputs": [],
   "source": [
    "connection = pymysql.connect(\n",
    "    host='localhost',\n",
    "    user='root',\n",
    "    password='password',\n",
    "    database='creditcard_capstone'\n",
    ")"
   ]
  },
  {
   "cell_type": "code",
   "execution_count": 224,
   "metadata": {},
   "outputs": [],
   "source": [
    "cursor = connection.cursor()"
   ]
  },
  {
   "cell_type": "code",
   "execution_count": 14,
   "metadata": {},
   "outputs": [
    {
     "name": "stderr",
     "output_type": "stream",
     "text": [
      "C:\\Users\\Learner_XZHCG225\\AppData\\Local\\Temp\\ipykernel_17564\\166493214.py:4: UserWarning: pandas only supports SQLAlchemy connectable (engine/connection) or database string URI or sqlite3 DBAPI2 connection. Other DBAPI2 objects are not tested. Please consider using SQLAlchemy.\n",
      "  data_frame = psql.read_sql(sql, con=connection)\n"
     ]
    }
   ],
   "source": [
    "sql = \"SELECT * FROM cdw_sapp_customer \"\n",
    "cursor.execute(sql)\n",
    "result_set = cursor.fetchall()\n",
    "data_frame = psql.read_sql(sql, con=connection)\n",
    "pd.set_option(\"display.max_columns\", None)"
   ]
  },
  {
   "cell_type": "code",
   "execution_count": null,
   "metadata": {},
   "outputs": [],
   "source": [
    "data_frame[\"TIMEID\"] = pd.to_datetime(data_frame[\"TIMEID\"],format='%Y%m%d')"
   ]
  },
  {
   "cell_type": "code",
   "execution_count": null,
   "metadata": {},
   "outputs": [],
   "source": [
    "data_frame"
   ]
  },
  {
   "attachments": {},
   "cell_type": "markdown",
   "metadata": {},
   "source": [
    "1) Used to check the existing account details of a customer."
   ]
  },
  {
   "cell_type": "code",
   "execution_count": null,
   "metadata": {},
   "outputs": [],
   "source": [
    "def customer_account():\n",
    "    selected_cols = ['SSN', 'FIRST_NAME', 'LAST_NAME', 'MIDDLE_NAME', 'CUST_COUNTRY', 'CUST_CITY', 'CUST_EMAIL',\n",
    "                 'CUST_PHONE', 'FULL_STREET_ADDRESS', 'CUST_STATE', 'CUST_ZIP', 'CREDIT_CARD_NO']\n",
    "    ssn = 123456100\n",
    "    result_df = data_frame.loc[data_frame['SSN'] == ssn, selected_cols]\n",
    "    print(result_df)\n",
    "\n",
    "customer_account()"
   ]
  },
  {
   "attachments": {},
   "cell_type": "markdown",
   "metadata": {},
   "source": [
    " Used to modify the existing account details of a customer."
   ]
  },
  {
   "cell_type": "code",
   "execution_count": 15,
   "metadata": {},
   "outputs": [
    {
     "name": "stderr",
     "output_type": "stream",
     "text": [
      "C:\\Spark\\python\\pyspark\\sql\\pandas\\conversion.py:371: FutureWarning: iteritems is deprecated and will be removed in a future version. Use .items instead.\n",
      "  for column, series in pdf.iteritems():\n"
     ]
    }
   ],
   "source": [
    "spark_df = spark.createDataFrame(data_frame)"
   ]
  },
  {
   "cell_type": "code",
   "execution_count": 20,
   "metadata": {},
   "outputs": [],
   "source": [
    "def module_two():\n",
    "    # todo get user input\n",
    "    print('Module Two:\\n\\tModify existing account details of a customer by entering customers credit card number\\n')\n",
    "    ccn = 4210653310102868\n",
    "    mod2 = spark_df.select('SSN', 'FIRST_NAME', 'LAST_NAME', 'MIDDLE_NAME', 'CUST_COUNTRY', 'CUST_CITY', 'CUST_EMAIL',\n",
    "                     'CUST_PHONE', 'FULL_STREET_ADDRESS', 'CUST_STATE', 'CUST_ZIP', 'CREDIT_CARD_NO').filter(\n",
    "        spark_df.CREDIT_CARD_NO == ccn)\n",
    "    mod2.distinct().show()\n",
    "    # todo ask user what to modify\n",
    "    column = input('Enter Column name value is stored in: ')\n",
    "    replace = input('Enter current value from the column {}: '.format(column))  # replace with current value\n",
    "    new_entry = input('Enter new value to replace old value: ')\n",
    "    mod2.withColumn(column, re.replace(column, replace, new_entry)).distinct() \\\n",
    "        .show()"
   ]
  },
  {
   "cell_type": "markdown",
   "metadata": {},
   "source": []
  },
  {
   "cell_type": "code",
   "execution_count": 225,
   "metadata": {},
   "outputs": [
    {
     "name": "stderr",
     "output_type": "stream",
     "text": [
      "C:\\Users\\Learner_XZHCG225\\AppData\\Local\\Temp\\ipykernel_26772\\1377666987.py:4: UserWarning: pandas only supports SQLAlchemy connectable (engine/connection) or database string URI or sqlite3 DBAPI2 connection. Other DBAPI2 objects are not tested. Please consider using SQLAlchemy.\n",
      "  data_frame = psql.read_sql(sql, con=connection)\n"
     ]
    }
   ],
   "source": [
    "sql = \"SELECT * FROM cdw_sapp_credit_card \"\n",
    "cursor.execute(sql)\n",
    "result_set = cursor.fetchall()\n",
    "data_frame = psql.read_sql(sql, con=connection)\n",
    "pd.set_option(\"display.max_columns\", None)"
   ]
  },
  {
   "cell_type": "code",
   "execution_count": 226,
   "metadata": {},
   "outputs": [],
   "source": [
    "data_frame[\"TIMEID\"] = pd.to_datetime(data_frame[\"TIMEID\"],format='%Y%m%d')"
   ]
  },
  {
   "cell_type": "code",
   "execution_count": 227,
   "metadata": {},
   "outputs": [
    {
     "name": "stderr",
     "output_type": "stream",
     "text": [
      "C:\\Spark\\python\\pyspark\\sql\\pandas\\conversion.py:371: FutureWarning: iteritems is deprecated and will be removed in a future version. Use .items instead.\n",
      "  for column, series in pdf.iteritems():\n"
     ]
    }
   ],
   "source": [
    "spark_df = spark.createDataFrame(data_frame)"
   ]
  },
  {
   "cell_type": "code",
   "execution_count": 197,
   "metadata": {},
   "outputs": [
    {
     "data": {
      "text/plain": [
       "DataFrame[TRANSACTION_ID: bigint, CUST_CC_NO: string, CUST_SSN: bigint, BRANCH_CODE: bigint, TRANSACTION_TYPE: string, TRANSACTION_VALUE: double, TIMEID: date, month: int, year: int, days: int]"
      ]
     },
     "execution_count": 197,
     "metadata": {},
     "output_type": "execute_result"
    }
   ],
   "source": [
    "spark_df"
   ]
  },
  {
   "cell_type": "code",
   "execution_count": 228,
   "metadata": {},
   "outputs": [],
   "source": [
    "spark_df= spark_df.withColumn(\"TIMEID\", to_date(\"TIMEID\", \"yyyy-MM-dd\"))\n",
    "spark_df= spark_df.withColumn(\"month\", month(\"TIMEID\"))\n",
    "spark_df= spark_df.withColumn(\"year\", year(\"TIMEID\"))\n",
    "spark_df= spark_df.withColumn(\"days\", dayofmonth(\"TIMEID\"))\n"
   ]
  },
  {
   "cell_type": "code",
   "execution_count": null,
   "metadata": {},
   "outputs": [],
   "source": [
    "spark_df.show()"
   ]
  },
  {
   "cell_type": "code",
   "execution_count": null,
   "metadata": {},
   "outputs": [],
   "source": [
    "spark_df.printSchema()"
   ]
  },
  {
   "attachments": {},
   "cell_type": "markdown",
   "metadata": {},
   "source": [
    "Used to generate a monthly bill for a credit card number for a given month and year."
   ]
  },
  {
   "cell_type": "code",
   "execution_count": 184,
   "metadata": {},
   "outputs": [],
   "source": [
    "def module_three():\n",
    "    # todo get user input\n",
    "    print('Module Three:\\n\\tGenerate a monthly bill for a credit card number for a given month and year')\n",
    "    ccn = 123456698\n",
    "    month = 12\n",
    "    year = 2018\n",
    "    mod3 = spark_df.select('CUST_SSN', 'TIMEID','TRANSACTION_TYPE',\n",
    "                     'TRANSACTION_VALUE').filter(\n",
    "                        spark_df.CUST_SSN == ccn).\\\n",
    "                        filter((spark_df.month == month)& (spark_df.year== year))\n",
    "    mod3.show()\n",
    "    print('Credit Card Statement for Month:{} Year:{} '.format(month, year))\n",
    "    mod3.agg({'TRANSACTION_VALUE': 'sum'}).show()"
   ]
  },
  {
   "cell_type": "code",
   "execution_count": null,
   "metadata": {},
   "outputs": [],
   "source": [
    "module_three()"
   ]
  },
  {
   "attachments": {},
   "cell_type": "markdown",
   "metadata": {},
   "source": [
    "Used to display the transactions made by a customer between two dates. Order by year, month, and day in descending order"
   ]
  },
  {
   "cell_type": "code",
   "execution_count": 219,
   "metadata": {},
   "outputs": [],
   "source": [
    "def module_four():\n",
    "\n",
    "    start_date = 2018-3-11\n",
    "    end_date = 2018-12-20\n",
    "    customer_ssn = 123456698\n",
    "\n",
    "    mod4 = spark_df.select('TIMEID', 'TRANSACTION_TYPE', 'TRANSACTION_VALUE','CUST_SSN') \\\n",
    "         .filter(spark_df.CUST_SSN == customer_ssn) \\\n",
    "         .filter((spark_df.TIMEID==start_date)&(spark_df.TIMEID==end_date)) \\\n",
    "         .orderBy(year(spark_df.TIMEID).desc(), month(spark_df.TIMEID).desc(), dayofmonth(spark_df.TIMEID).desc())\n",
    "    mod4.show()\n"
   ]
  },
  {
   "cell_type": "code",
   "execution_count": null,
   "metadata": {},
   "outputs": [],
   "source": [
    "module_four()"
   ]
  },
  {
   "cell_type": "code",
   "execution_count": 205,
   "metadata": {},
   "outputs": [],
   "source": [
    "def module_four():\n",
    "    print(\"Transactions made by a customer between two dates.\")\n",
    "    ssn = 123456698\n",
    "    first_date=2018-3-11\n",
    "    second_date=2018-12-20\n",
    "    mod4 = spark_df.select(\"CUST_SSN\",\"TIMEID\",\"TRANSACTION_TYPE\",\"TRANSACTION_VALUE\").\\\n",
    "        filter(spark_df.CUST_SSN==ssn).\\\n",
    "        filter((spark_df.TIMEID==first_date)&(spark_df.TIMEID==second_date))\n",
    "        #sort(spark_df.year.desc(),spark_df.month.desc(),spark_df.day.desc())\n",
    "    mod4.show(10)\n",
    "\n",
    "          "
   ]
  },
  {
   "cell_type": "code",
   "execution_count": null,
   "metadata": {},
   "outputs": [],
   "source": [
    "module_four()"
   ]
  },
  {
   "cell_type": "code",
   "execution_count": 231,
   "metadata": {},
   "outputs": [],
   "source": [
    "def module_four():\n",
    "    # todo get user input\n",
    "    print('Module Four:\\n\\t Transactions made by a customer between two dates.')\n",
    "    ccn = 4210653369905302\n",
    "    start_day = 3\n",
    "    start_month = 11\n",
    "    start_year = 2018\n",
    "    end_day = 22\n",
    "    end_month = 12\n",
    "    end_year = 2018\n",
    "\n",
    "    mod4 = spark_df.select('CUST_CC_NO', 'year', 'month', 'days', 'TRANSACTION_TYPE', 'TRANSACTION_VALUE'). \\\n",
    "        filter(spark_df.CUST_CC_NO == ccn). \\\n",
    "        filter(spark_df.year >= start_year). \\\n",
    "        filter(spark_df.month >= start_month). \\\n",
    "        filter(spark_df.days >= start_day). \\\n",
    "        filter(spark_df.year <= end_year). \\\n",
    "        filter(spark_df.month<= end_month). \\\n",
    "        filter(spark_df.days <= end_day). \\\n",
    "        sort(spark_df.year.desc(), spark_df.month.desc(), spark_df.days.desc())\n",
    "    mod4.show(100)"
   ]
  },
  {
   "cell_type": "code",
   "execution_count": 232,
   "metadata": {},
   "outputs": [
    {
     "name": "stdout",
     "output_type": "stream",
     "text": [
      "Module Four:\n",
      "\t Transactions made by a customer between two dates.\n",
      "+----------------+----+-----+----+----------------+-----------------+\n",
      "|      CUST_CC_NO|year|month|days|TRANSACTION_TYPE|TRANSACTION_VALUE|\n",
      "+----------------+----+-----+----+----------------+-----------------+\n",
      "|4210653369905302|2018|   12|  21|         Grocery|            47.08|\n",
      "|4210653369905302|2018|   12|  20|   Entertainment|            25.49|\n",
      "|4210653369905302|2018|   12|  15|             Gas|            100.3|\n",
      "|4210653369905302|2018|   11|  12|       Education|            63.23|\n",
      "|4210653369905302|2018|   11|  11|         Grocery|            47.01|\n",
      "|4210653369905302|2018|   11|   9|       Education|             61.3|\n",
      "|4210653369905302|2018|   11|   9|             Gas|            41.48|\n",
      "|4210653369905302|2018|   11|   3|            Test|            19.79|\n",
      "+----------------+----+-----+----+----------------+-----------------+\n",
      "\n"
     ]
    }
   ],
   "source": [
    "module_four()"
   ]
  }
 ],
 "metadata": {
  "kernelspec": {
   "display_name": "Python 3",
   "language": "python",
   "name": "python3"
  },
  "language_info": {
   "codemirror_mode": {
    "name": "ipython",
    "version": 3
   },
   "file_extension": ".py",
   "mimetype": "text/x-python",
   "name": "python",
   "nbconvert_exporter": "python",
   "pygments_lexer": "ipython3",
   "version": "3.10.9"
  },
  "orig_nbformat": 4,
  "vscode": {
   "interpreter": {
    "hash": "52634da84371cba311ea128a5ea7cdc41ff074b781779e754b270ff9f8153cee"
   }
  }
 },
 "nbformat": 4,
 "nbformat_minor": 2
}
