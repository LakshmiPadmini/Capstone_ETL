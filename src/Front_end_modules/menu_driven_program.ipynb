{
 "cells": [
  {
   "cell_type": "code",
   "execution_count": 2,
   "metadata": {},
   "outputs": [],
   "source": [
    "import findspark\n",
    "findspark.init()\n",
    "\n",
    "import datetime as dt\n",
    "import pymysql\n",
    "import pandas.io.sql as psql\n",
    "import pandas as pd\n",
    "import pyspark\n",
    "from pyspark.sql import SparkSession\n",
    "from pyspark.sql.functions import to_date, month,year,dayofmonth\n",
    "import regex as re\n",
    "import pyinputplus as pyip\n"
   ]
  },
  {
   "cell_type": "code",
   "execution_count": null,
   "metadata": {},
   "outputs": [],
   "source": [
    "spark = SparkSession.builder.master(\"local[1]\").appName('Credit_card.com').getOrCreate()"
   ]
  },
  {
   "cell_type": "code",
   "execution_count": 3,
   "metadata": {},
   "outputs": [],
   "source": [
    "connection = pymysql.connect(\n",
    "    host='localhost',\n",
    "    user='root',\n",
    "    password='password',\n",
    "    database='creditcard_capstone'\n",
    ")\n"
   ]
  },
  {
   "cell_type": "code",
   "execution_count": 4,
   "metadata": {},
   "outputs": [],
   "source": [
    "cursor = connection.cursor()"
   ]
  },
  {
   "cell_type": "code",
   "execution_count": null,
   "metadata": {},
   "outputs": [],
   "source": [
    " Used to display the transactions made by customers living in a given zip code for a given month and year. Order by day in descending order."
   ]
  },
  {
   "cell_type": "code",
   "execution_count": null,
   "metadata": {},
   "outputs": [],
   "source": [
    "sql = \"SELECT c.CUST_ZIP,c.SSN,cc.CUST_SSN,cc.TRANSACTION_VALUE,cc.TRANSACTION_TYPE,cc.TIMEID FROM cdw_sapp_customer c  JOIN cdw_sapp_credit_card cc ON c.SSN=cc.CUST_SSN \"\n",
    "cursor.execute(sql)\n",
    "result_set = cursor.fetchall()\n",
    "data_frame = psql.read_sql(sql, con=connection)\n",
    "pd.set_option(\"display.max_columns\", None)"
   ]
  },
  {
   "cell_type": "code",
   "execution_count": null,
   "metadata": {},
   "outputs": [],
   "source": [
    "def transaction_mod1():\n",
    "    sql = \"SELECT c.CUST_ZIP,c.SSN,cc.CUST_SSN,cc.TRANSACTION_VALUE,cc.TRANSACTION_TYPE,cc.TIMEID FROM cdw_sapp_customer c  JOIN cdw_sapp_credit_card cc ON c.SSN=cc.CUST_SSN \"\n",
    "    cursor.execute(sql)\n",
    "    result_set = cursor.fetchall()\n",
    "    data_frame = psql.read_sql(sql, con=connection)\n",
    "    pd.set_option(\"display.max_columns\", None)      \n",
    "    zipcode = 21042 \n",
    "    month = 11\n",
    "    year = 2018\n",
    "    customer_transaction = data_frame[(data_frame.CUST_ZIP == zipcode) &\n",
    "                                      (data_frame.TIMEID.dt.month == month) &\n",
    "                                      (data_frame.TIMEID.dt.year == year)]\n",
    "    daily_values = customer_transaction.groupby(customer_transaction.TIMEID.dt.day)[\"TRANSACTION_VALUE\"].sum()\n",
    "    result =pd.DataFrame({\"Day\": daily_values.index, \"Transaction Value\": daily_values.values})\n",
    "    result = result.sort_values(\"Day\", ascending=False)\n",
    "    print(result)\n"
   ]
  },
  {
   "attachments": {},
   "cell_type": "markdown",
   "metadata": {},
   "source": [
    " Used to display the number and total values of transactions for a given type."
   ]
  },
  {
   "cell_type": "code",
   "execution_count": null,
   "metadata": {},
   "outputs": [],
   "source": [
    "def transaction_mod2():\n",
    "    transaction_type = 'Bills'\n",
    "    transaction_type = data_frame[(data_frame['TRANSACTION_TYPE']=='Bills')&(data_frame['TRANSACTION_VALUE'])]\n",
    "    transaction_df = transaction_type.groupby('TRANSACTION_TYPE').agg(trans_count=('TRANSACTION_TYPE', 'count'), \n",
    "                                                  trans_val=('TRANSACTION_VALUE', 'sum'))\n",
    "    transaction_df['trans_val'] = round(transaction_df['trans_val'], 2)\n",
    "    print(transaction_df)\n",
    "\n",
    "transaction_mod2()"
   ]
  },
  {
   "attachments": {},
   "cell_type": "markdown",
   "metadata": {},
   "source": [
    "Used to display the total number and total values of transactions for branches in a given state."
   ]
  },
  {
   "cell_type": "code",
   "execution_count": null,
   "metadata": {},
   "outputs": [],
   "source": [
    "def transaction_mod3():\n",
    "        sql = \"SELECT bc.BRANCH_CODE,bc.BRANCH_STATE,cc.TRANSACTION_VALUE,cc.TRANSACTION_TYPE,cc.BRANCH_CODE FROM cdw_sapp_branch bc JOIN cdw_sapp_credit_card cc ON bc.BRANCH_CODE=cc.BRANCH_CODE\"\n",
    "        cursor.execute(sql)\n",
    "        result_set = cursor.fetchall()\n",
    "        data_frame = psql.read_sql(sql, con=connection)\n",
    "        pd.set_option(\"display.max_columns\", None)\n",
    "        branch_state = 'PA'\n",
    "        branch_transaction = data_frame[(data_frame['BRANCH_STATE']=='PA')&(data_frame['TRANSACTION_VALUE'])]\n",
    "        trans_by_branch_state = branch_transaction.groupby([ 'BRANCH_STATE']).agg(total_transactions=('TRANSACTION_VALUE', 'sum'))\n",
    "        print(trans_by_branch_state)\n",
    "\n",
    "transaction_mod3()"
   ]
  },
  {
   "attachments": {},
   "cell_type": "markdown",
   "metadata": {},
   "source": [
    "Used to check the existing account details of a customer."
   ]
  },
  {
   "cell_type": "code",
   "execution_count": null,
   "metadata": {},
   "outputs": [],
   "source": [
    "sql = \"SELECT * FROM cdw_sapp_customer \"\n",
    "cursor.execute(sql)\n",
    "result_set = cursor.fetchall()\n",
    "data_frame = psql.read_sql(sql, con=connection)\n",
    "pd.set_option(\"display.max_columns\", None)"
   ]
  },
  {
   "cell_type": "code",
   "execution_count": null,
   "metadata": {},
   "outputs": [],
   "source": [
    "data_frame[\"TIMEID\"] = pd.to_datetime(data_frame[\"TIMEID\"],format='%Y%m%d')"
   ]
  },
  {
   "cell_type": "code",
   "execution_count": null,
   "metadata": {},
   "outputs": [],
   "source": [
    "def customer_account():\n",
    "    selected_cols = ['SSN', 'FIRST_NAME', 'LAST_NAME', 'MIDDLE_NAME', 'CUST_COUNTRY', 'CUST_CITY', 'CUST_EMAIL',\n",
    "                 'CUST_PHONE', 'FULL_STREET_ADDRESS', 'CUST_STATE', 'CUST_ZIP', 'CREDIT_CARD_NO']\n",
    "    ssn = 123456100\n",
    "    result_df = data_frame.loc[data_frame['SSN'] == ssn, selected_cols]\n",
    "    print(result_df)"
   ]
  },
  {
   "attachments": {},
   "cell_type": "markdown",
   "metadata": {},
   "source": [
    "Used to modify the existing account details of a customer."
   ]
  },
  {
   "cell_type": "code",
   "execution_count": null,
   "metadata": {},
   "outputs": [],
   "source": [
    "def module_two():\n",
    "    spark_df = spark.createDataFrame(data_frame)\n",
    "    # todo get user input\n",
    "    print('Module Two:\\n\\tModify existing account details of a customer by entering customers credit card number\\n')\n",
    "    ccn = 4210653310102868\n",
    "    mod2 = spark_df.select('SSN', 'FIRST_NAME', 'LAST_NAME', 'MIDDLE_NAME', 'CUST_COUNTRY', 'CUST_CITY', 'CUST_EMAIL',\n",
    "                     'CUST_PHONE', 'FULL_STREET_ADDRESS', 'CUST_STATE', 'CUST_ZIP', 'CREDIT_CARD_NO').filter(\n",
    "        spark_df.CREDIT_CARD_NO == ccn)\n",
    "    mod2.distinct().show()\n",
    "    # todo ask user what to modify\n",
    "    column = input('Enter Column name value is stored in: ')\n",
    "    replace = input('Enter current value from the column {}: '.format(column))  # replace with current value\n",
    "    new_entry = input('Enter new value to replace old value: ')\n",
    "    mod2.withColumn(column, re.replace(column, replace, new_entry)).distinct() \\\n",
    "        .show()"
   ]
  },
  {
   "attachments": {},
   "cell_type": "markdown",
   "metadata": {},
   "source": [
    "Used to generate a monthly bill for a credit card number for a given month and year."
   ]
  },
  {
   "cell_type": "code",
   "execution_count": null,
   "metadata": {},
   "outputs": [],
   "source": [
    "sql = \"SELECT * FROM cdw_sapp_credit_card \"\n",
    "cursor.execute(sql)\n",
    "result_set = cursor.fetchall()\n",
    "data_frame = psql.read_sql(sql, con=connection)\n",
    "pd.set_option(\"display.max_columns\", None)"
   ]
  },
  {
   "cell_type": "code",
   "execution_count": null,
   "metadata": {},
   "outputs": [],
   "source": [
    "data_frame[\"TIMEID\"] = pd.to_datetime(data_frame[\"TIMEID\"],format='%Y%m%d')"
   ]
  },
  {
   "cell_type": "code",
   "execution_count": null,
   "metadata": {},
   "outputs": [],
   "source": [
    "spark_df= spark_df.withColumn(\"TIMEID\", to_date(\"TIMEID\", \"yyyy-MM-dd\"))\n",
    "spark_df= spark_df.withColumn(\"month\", month(\"TIMEID\"))\n",
    "spark_df= spark_df.withColumn(\"year\", year(\"TIMEID\"))\n",
    "spark_df= spark_df.withColumn(\"days\", dayofmonth(\"TIMEID\"))"
   ]
  },
  {
   "cell_type": "code",
   "execution_count": null,
   "metadata": {},
   "outputs": [],
   "source": [
    "def module_three():\n",
    "    spark_df = spark.createDataFrame(data_frame)\n",
    "    spark_df= spark_df.withColumn(\"TIMEID\", to_date(\"TIMEID\", \"yyyy-MM-dd\"))\n",
    "    spark_df= spark_df.withColumn(\"month\", month(\"TIMEID\"))\n",
    "    spark_df= spark_df.withColumn(\"year\", year(\"TIMEID\"))\n",
    "    spark_df= spark_df.withColumn(\"days\", dayofmonth(\"TIMEID\"))\n",
    "    # todo get user input\n",
    "    print('Module Three:\\n\\tGenerate a monthly bill for a credit card number for a given month and year')\n",
    "    ccn = 123456698\n",
    "    month = 12\n",
    "    year = 2018\n",
    "    mod3 = spark_df.select('CUST_SSN', 'TIMEID','TRANSACTION_TYPE',\n",
    "                     'TRANSACTION_VALUE').filter(\n",
    "                        spark_df.CUST_SSN == ccn).\\\n",
    "                        filter((spark_df.month == month)& (spark_df.year== year))\n",
    "    mod3.show()\n",
    "    print('Credit Card Statement for Month:{} Year:{} '.format(month, year))\n",
    "    mod3.agg({'TRANSACTION_VALUE': 'sum'}).show()"
   ]
  },
  {
   "attachments": {},
   "cell_type": "markdown",
   "metadata": {},
   "source": [
    "Used to display the transactions made by a customer between two dates. Order by year, month, and day in descending order"
   ]
  },
  {
   "cell_type": "code",
   "execution_count": null,
   "metadata": {},
   "outputs": [],
   "source": [
    "def module_four():\n",
    "     spark_df = spark.createDataFrame(data_frame)\n",
    "     spark_df= spark_df.withColumn(\"TIMEID\", to_date(\"TIMEID\", \"yyyy-MM-dd\"))\n",
    "     spark_df= spark_df.withColumn(\"month\", month(\"TIMEID\"))\n",
    "     spark_df= spark_df.withColumn(\"year\", year(\"TIMEID\"))\n",
    "     spark_df= spark_df.withColumn(\"days\", dayofmonth(\"TIMEID\"))\n",
    "\n",
    "     start_date = 2018-3-11\n",
    "     end_date = 2018-12-20\n",
    "     customer_ssn = 123456698\n",
    "\n",
    "     mod4 = spark_df.select('TIMEID', 'TRANSACTION_TYPE', 'TRANSACTION_VALUE','CUST_SSN') \\\n",
    "         .filter(spark_df.CUST_SSN == customer_ssn) \\\n",
    "         .filter((spark_df.TIMEID==start_date)&(spark_df.TIMEID==end_date)) \\\n",
    "         .orderBy(year(spark_df.TIMEID).desc(), month(spark_df.TIMEID).desc(), dayofmonth(spark_df.TIMEID).desc())\n",
    "     mod4.show()"
   ]
  },
  {
   "cell_type": "code",
   "execution_count": null,
   "metadata": {},
   "outputs": [],
   "source": [
    "print(\"\\n CUstomer and Transaction detail modules\")"
   ]
  },
  {
   "cell_type": "code",
   "execution_count": 5,
   "metadata": {},
   "outputs": [
    {
     "name": "stdout",
     "output_type": "stream",
     "text": [
      "\n",
      "MENU\n",
      "1.Transaction Details OF A Customer\n",
      "2. Customer deatails with the given option\n",
      "3.Quit\n",
      "Enter a choice Transaction details or Customer details"
     ]
    }
   ],
   "source": [
    "while True:\n",
    "    print(\"\\nMENU\")\n",
    "    print(\"1.Transaction Details OF A Customer\")\n",
    "    print(\"2. Customer deatails with the given option\")\n",
    "    print(\"3.Quit\")\n",
    "    choice = pyip.inputInt(\"Enter a choice Transaction details or Customer details\",min=1,max=3)\n",
    "    if choice == 1:\n",
    "        while True:\n",
    "            print(\"\\nSelect an option from the sub_menu\")\n",
    "            print(\"1. The transactions made by customers living in a given zip code for a given month and year. Order by day in descending order\")\n",
    "            print(\"2. The number and total values of transactions for a given type\")\n",
    "            print(\"3. The total number and total values of transactions for branches in a given state.\")\n",
    "            print(\"4. Quit\")\n",
    "            sub_choice = pyip.inputInt(\"Select an option to check the transaction details\",min=1,max=4)\n",
    "            if sub_choice == 1:\n",
    "                transaction_mod1()\n",
    "            elif sub_choice == 2:\n",
    "                transaction_mod2()\n",
    "            elif sub_choice == 3:\n",
    "                transaction_mod3()\n",
    "            else:\n",
    "                break\n",
    "    elif choice == 2:\n",
    "        while True:\n",
    "            print(\"\\nSelect an option from the sub_menu\")\n",
    "            print(\"1. Used to check the existing account details of a customer.\")\n",
    "            print(\"2.  Used to modify the existing account details of a customer.\")\n",
    "            print(\"3. Used to generate a monthly bill for a credit card number for a given month and year.\")\n",
    "            print(\"4. Used to display the transactions made by a customer between two dates. Order by year, month, and day in descending order\")\n",
    "            sub_choice = pyip.inputInt(\"Select an option to Get the Customer details\",min=1,max=4)\n",
    "            if sub_choice == 1:\n",
    "                customer_account()\n",
    "            elif sub_choice == 2:\n",
    "                module_two()\n",
    "            elif sub_choice == 3:\n",
    "                module_three()\n",
    "            elif sub_choice == 4:\n",
    "                module_four()\n",
    "            else:\n",
    "                break\n",
    "\n",
    "    else:\n",
    "        break\n",
    "                \n"
   ]
  }
 ],
 "metadata": {
  "kernelspec": {
   "display_name": "Python 3",
   "language": "python",
   "name": "python3"
  },
  "language_info": {
   "codemirror_mode": {
    "name": "ipython",
    "version": 3
   },
   "file_extension": ".py",
   "mimetype": "text/x-python",
   "name": "python",
   "nbconvert_exporter": "python",
   "pygments_lexer": "ipython3",
   "version": "3.10.9"
  },
  "orig_nbformat": 4,
  "vscode": {
   "interpreter": {
    "hash": "52634da84371cba311ea128a5ea7cdc41ff074b781779e754b270ff9f8153cee"
   }
  }
 },
 "nbformat": 4,
 "nbformat_minor": 2
}
