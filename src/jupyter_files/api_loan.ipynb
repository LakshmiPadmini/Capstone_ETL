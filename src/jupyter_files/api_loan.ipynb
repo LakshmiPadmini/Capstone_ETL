{
 "cells": [
  {
   "cell_type": "code",
   "execution_count": 1,
   "metadata": {},
   "outputs": [],
   "source": [
    "import findspark\n",
    "findspark.init()\n",
    "\n",
    "import requests\n",
    "import json\n",
    "from pprint import pp\n",
    "import pyspark\n",
    "from pyspark.sql import SparkSession\n",
    "from pyspark import SparkConf, SparkContext\n",
    "from pyspark.sql.functions import *\n",
    "from pyspark.sql.types import *\n",
    "import pandas as pd\n",
    "\n"
   ]
  },
  {
   "cell_type": "code",
   "execution_count": 2,
   "metadata": {},
   "outputs": [],
   "source": [
    "\n",
    "\n",
    "spark = SparkSession.builder.master(\"local[1]\").appName('ApiData.com').getOrCreate()"
   ]
  },
  {
   "cell_type": "code",
   "execution_count": 3,
   "metadata": {},
   "outputs": [
    {
     "name": "stdout",
     "output_type": "stream",
     "text": [
      "200\n"
     ]
    }
   ],
   "source": [
    "baseurl = \"https://raw.githubusercontent.com/platformps/LoanDataset/main/loan_data.json\"\n",
    "#endpoint = \"planets\"\n",
    "\n",
    "def main_request(baseurl):\n",
    "    r = requests.get(baseurl )\n",
    "    print(r.status_code)\n",
    "    data = r.json()\n",
    "    return data\n",
    "\n",
    "\n",
    "data = main_request(baseurl)\n",
    "#pp(data)"
   ]
  },
  {
   "cell_type": "code",
   "execution_count": null,
   "metadata": {},
   "outputs": [],
   "source": [
    "rdd= spark.sparkContext.parallelize(data)\n",
    "df = rdd.toDF()\n",
    "df.show()\n"
   ]
  },
  {
   "cell_type": "code",
   "execution_count": 5,
   "metadata": {},
   "outputs": [],
   "source": [
    "df.write.format(\"jdbc\").mode(\"append\")\\\n",
    "        .option(\"url\",\"jdbc:mysql://localhost:3306/creditcard_capstone\")\\\n",
    "        .option(\"dbtable\",\"creditcard_capstone.CDW_SAPP_loan_application\")\\\n",
    "        .option(\"user\",\"root\")\\\n",
    "        .option(\"password\",\"password\")\\\n",
    "        .save()"
   ]
  }
 ],
 "metadata": {
  "kernelspec": {
   "display_name": "Python 3",
   "language": "python",
   "name": "python3"
  },
  "language_info": {
   "codemirror_mode": {
    "name": "ipython",
    "version": 3
   },
   "file_extension": ".py",
   "mimetype": "text/x-python",
   "name": "python",
   "nbconvert_exporter": "python",
   "pygments_lexer": "ipython3",
   "version": "3.10.9"
  },
  "orig_nbformat": 4,
  "vscode": {
   "interpreter": {
    "hash": "52634da84371cba311ea128a5ea7cdc41ff074b781779e754b270ff9f8153cee"
   }
  }
 },
 "nbformat": 4,
 "nbformat_minor": 2
}
