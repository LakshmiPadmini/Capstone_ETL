{
 "cells": [
  {
   "cell_type": "code",
   "execution_count": null,
   "metadata": {},
   "outputs": [],
   "source": [
    "import findspark\n",
    "findspark.init()\n",
    "\n",
    "from pyspark.sql import SparkSession\n",
    "from pyspark.sql.types import (IntegerType, TimestampType)\n",
    "from pyspark.sql.functions import *"
   ]
  },
  {
   "cell_type": "code",
   "execution_count": null,
   "metadata": {},
   "outputs": [],
   "source": [
    "    def load_data(self):\n",
    "        df = self.extract_data()\n",
    "        df = self.transform_branch_data(df)\n",
    "        self.df = df\n",
    "        # Load data into"
   ]
  },
  {
   "cell_type": "code",
   "execution_count": null,
   "metadata": {},
   "outputs": [],
   "source": [
    " def extract_data(self):\n",
    "        spark = SparkSession.builder.appName('SparkByBranch').getOrCreate()\n",
    "        return spark.read.json(self.path)\n"
   ]
  },
  {
   "cell_type": "code",
   "execution_count": null,
   "metadata": {},
   "outputs": [],
   "source": [
    " def transform_branch_data(self, df):\n",
    "        df = df.withColumn(\"BRANCH_CODE\", col(\"BRANCH_CODE\").cast(IntegerType()))\\\n",
    "               .withColumn(\"BRANCH_ZIP\", col(\"BRANCH_ZIP\").cast(IntegerType()))\\\n",
    "               .withColumn(\"LAST_UPDATED\", col(\"LAST_UPDATED\").cast(TimestampType()))\n",
    "        df = df.withColumn(\"BRANCH_PHONE\", regexp_replace(df.BRANCH_PHONE, \"(\\d{3})(\\d{3})(\\d{4})\", \"($1) $2-$3\"))\n",
    "        df = df.na.fill(00000, subset=[\"BRANCH_ZIP\"])\n",
    "        return df\n"
   ]
  }
 ],
 "metadata": {
  "language_info": {
   "name": "python"
  },
  "orig_nbformat": 4
 },
 "nbformat": 4,
 "nbformat_minor": 2
}
